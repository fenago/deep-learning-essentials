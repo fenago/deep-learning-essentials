{
 "cells": [
  {
   "cell_type": "markdown",
   "metadata": {},
   "source": [
    "# Activity 6.02: Predicting Income with Bayesian Optimization from Keras Tuner"
   ]
  },
  {
   "cell_type": "code",
   "execution_count": null,
   "metadata": {
    "id": "Uf630aTfG4fB"
   },
   "outputs": [],
   "source": [
    "import pandas as pd"
   ]
  },
  {
   "cell_type": "code",
   "execution_count": null,
   "metadata": {
    "id": "Bd-x4mvPUqRF"
   },
   "outputs": [],
   "source": [
    "usecols = ['AAGE','ADTIND','ADTOCC','SEOTR','WKSWORK', 'PTOTVAL']"
   ]
  },
  {
   "cell_type": "code",
   "execution_count": null,
   "metadata": {
    "id": "9UTKnuyMG4iF"
   },
   "outputs": [],
   "source": [
    "train_url = 'https://github.com/fenago'\\\n",
    "            '/deep-learning-essentials/blob/main/Lab06'\\\n",
    "            '/dataset/census-income-train.csv?raw=true'"
   ]
  },
  {
   "cell_type": "code",
   "execution_count": null,
   "metadata": {
    "colab": {
     "base_uri": "https://localhost:8080/",
     "height": 206
    },
    "id": "b7Z2bZNWI5IH",
    "outputId": "38f79800-c693-46cf-d818-fa1b7899a91b"
   },
   "outputs": [],
   "source": [
    "train_data = pd.read_csv(train_url, usecols=usecols)\n",
    "train_data.head()"
   ]
  },
  {
   "cell_type": "code",
   "execution_count": null,
   "metadata": {
    "id": "VxC-g8BlK8_p"
   },
   "outputs": [],
   "source": [
    "train_target = train_data.pop('PTOTVAL')"
   ]
  },
  {
   "cell_type": "code",
   "execution_count": null,
   "metadata": {
    "id": "-fEcy4yABnPa"
   },
   "outputs": [],
   "source": [
    "test_url = 'https://github.com/fenago'\\\n",
    "           '/deep-learning-essentials/blob/main/Lab06'\\\n",
    "           '/dataset/census-income-test.csv?raw=true'"
   ]
  },
  {
   "cell_type": "code",
   "execution_count": null,
   "metadata": {
    "colab": {
     "base_uri": "https://localhost:8080/",
     "height": 206
    },
    "id": "1_ZNaxKgBnR0",
    "outputId": "661f3abe-ed62-40d7-c74b-066dbe7def21"
   },
   "outputs": [],
   "source": [
    "test_data = pd.read_csv(test_url, usecols=usecols)\n",
    "test_data.head()"
   ]
  },
  {
   "cell_type": "code",
   "execution_count": null,
   "metadata": {
    "id": "F0YDsI81BnUJ"
   },
   "outputs": [],
   "source": [
    "test_target = test_data.pop('PTOTVAL')"
   ]
  },
  {
   "cell_type": "code",
   "execution_count": null,
   "metadata": {
    "id": "HmqzSRA2JUPn"
   },
   "outputs": [],
   "source": [
    "import tensorflow as tf\n",
    "from tensorflow.keras.layers import Dense, Dropout"
   ]
  },
  {
   "cell_type": "code",
   "execution_count": null,
   "metadata": {
    "id": "QQIO-yFFJjCF"
   },
   "outputs": [],
   "source": [
    "tf.random.set_seed(8)"
   ]
  },
  {
   "cell_type": "code",
   "execution_count": null,
   "metadata": {
    "id": "HMhQrxnURgbF"
   },
   "outputs": [],
   "source": [
    "def model_builder(hp):\n",
    "  model = tf.keras.Sequential()\n",
    "\n",
    "  hp_l2 = hp.Choice('l2', values = [0.1, 0.01, 0.001])\n",
    "  hp_units = hp.Int('units', min_value=128, max_value=512, step=64)\n",
    "\n",
    "  reg_fc1 = Dense(hp_units, input_shape=(5,), activation='relu', \\\n",
    "                  kernel_regularizer=tf.keras.regularizers\\\n",
    "                                       .l2(l=hp_l2))\n",
    "  reg_fc2 = Dense(512, activation='relu', \\\n",
    "                  kernel_regularizer=tf.keras.regularizers\\\n",
    "                                       .l2(l=hp_l2))\n",
    "  reg_fc3 = Dense(128, activation='relu', \\\n",
    "                  kernel_regularizer=tf.keras.regularizers\\\n",
    "                                       .l2(l=hp_l2))\n",
    "  reg_fc4 = Dense(128, activation='relu', \\\n",
    "                  kernel_regularizer=tf.keras.regularizers\\\n",
    "                                       .l2(l=hp_l2))\n",
    "  reg_fc5 = Dense(1)\n",
    "  \n",
    "  model.add(reg_fc1)\n",
    "  model.add(reg_fc2)\n",
    "  model.add(reg_fc3)\n",
    "  model.add(reg_fc4)\n",
    "  model.add(reg_fc5)\n",
    "  \n",
    "  hp_learning_rate = hp.Choice('learning_rate', \\\n",
    "                               values = [0.01, 0.001]) \n",
    "\n",
    "  optimizer = tf.keras.optimizers.Adam(hp_learning_rate)\n",
    "  model.compile(optimizer=optimizer, loss='mse', metrics=['mse'])\n",
    "  \n",
    "  return model"
   ]
  },
  {
   "cell_type": "code",
   "execution_count": null,
   "metadata": {
    "colab": {
     "base_uri": "https://localhost:8080/"
    },
    "id": "_bfXe8RSCMDK",
    "outputId": "6a8f26ff-13b2-41c3-f8e3-01e7326f2e59"
   },
   "outputs": [],
   "source": [
    "!pip install -q -U keras-tuner==1.0.1\n",
    "import kerastuner as kt"
   ]
  },
  {
   "cell_type": "code",
   "execution_count": null,
   "metadata": {
    "id": "Y2grB3hVJWp6"
   },
   "outputs": [],
   "source": [
    "tuner = kt.BayesianOptimization(model_builder, \\\n",
    "                                objective = 'val_mse',\\\n",
    "                                max_trials = 10)"
   ]
  },
  {
   "cell_type": "code",
   "execution_count": null,
   "metadata": {
    "colab": {
     "base_uri": "https://localhost:8080/"
    },
    "id": "gFPg_o_GUN-Q",
    "outputId": "f779bb72-b478-4a86-bad2-a6c592d37885"
   },
   "outputs": [],
   "source": [
    "tuner.search(train_data, train_target, \\\n",
    "             validation_data=(test_data, test_target))"
   ]
  },
  {
   "cell_type": "code",
   "execution_count": null,
   "metadata": {
    "id": "xyylWBHeU6jV"
   },
   "outputs": [],
   "source": [
    "best_hps = tuner.get_best_hyperparameters(num_trials = 1)[0]"
   ]
  },
  {
   "cell_type": "code",
   "execution_count": null,
   "metadata": {
    "colab": {
     "base_uri": "https://localhost:8080/"
    },
    "id": "X6FWoSW9Jykf",
    "outputId": "318fc7fc-a304-465d-de8e-2507dd3f5fff"
   },
   "outputs": [],
   "source": [
    "best_units = best_hps.get('units')\n",
    "best_units"
   ]
  },
  {
   "cell_type": "code",
   "execution_count": null,
   "metadata": {
    "colab": {
     "base_uri": "https://localhost:8080/"
    },
    "id": "XnPJD263V1R2",
    "outputId": "808a2168-c5bb-42df-d598-514bfd95662a"
   },
   "outputs": [],
   "source": [
    "best_lr = best_hps.get('learning_rate')\n",
    "best_lr"
   ]
  },
  {
   "cell_type": "code",
   "execution_count": null,
   "metadata": {
    "colab": {
     "base_uri": "https://localhost:8080/"
    },
    "id": "-fodWfnpV0ww",
    "outputId": "589ccc58-0bb2-4806-9e04-dfc3bb98fc33"
   },
   "outputs": [],
   "source": [
    "best_l2 = best_hps.get('l2')\n",
    "best_l2"
   ]
  },
  {
   "cell_type": "code",
   "execution_count": null,
   "metadata": {
    "id": "whwQ7LpvJ_T4"
   },
   "outputs": [],
   "source": [
    "model = tuner.hypermodel.build(best_hps)"
   ]
  },
  {
   "cell_type": "code",
   "execution_count": null,
   "metadata": {
    "colab": {
     "base_uri": "https://localhost:8080/"
    },
    "id": "6XvUYzZFJ_nh",
    "outputId": "74f1c4e7-9fca-45d4-cb13-ae6854acd92a"
   },
   "outputs": [],
   "source": [
    "model.fit(train_data, train_target, epochs=5, \\\n",
    "          validation_data=(test_data, test_target))"
   ]
  }
 ],
 "metadata": {
  "colab": {
   "collapsed_sections": [],
   "name": "Copy of Activity06_02.ipynb",
   "provenance": []
  },
  "kernelspec": {
   "display_name": "Python 3",
   "language": "python",
   "name": "python3"
  },
  "language_info": {
   "codemirror_mode": {
    "name": "ipython",
    "version": 3
   },
   "file_extension": ".py",
   "mimetype": "text/x-python",
   "name": "python",
   "nbconvert_exporter": "python",
   "pygments_lexer": "ipython3",
   "version": "3.7.3"
  }
 },
 "nbformat": 4,
 "nbformat_minor": 1
}
