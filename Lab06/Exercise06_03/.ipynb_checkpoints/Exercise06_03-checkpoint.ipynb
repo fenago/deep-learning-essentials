{
 "cells": [
  {
   "cell_type": "markdown",
   "metadata": {},
   "source": [
    "# Exercise 6.03: Predicting a Connect-4 Game Outcome Using Random Search from Keras Tuner "
   ]
  },
  {
   "cell_type": "code",
   "execution_count": null,
   "metadata": {
    "id": "Uf630aTfG4fB"
   },
   "outputs": [],
   "source": [
    "import pandas as pd"
   ]
  },
  {
   "cell_type": "code",
   "execution_count": null,
   "metadata": {
    "id": "9UTKnuyMG4iF"
   },
   "outputs": [],
   "source": [
    "file_url = 'https://raw.githubusercontent.com/PacktWorkshops'\\\n",
    "           '/The-TensorFlow-Workshop/master/Chapter06/dataset'\\\n",
    "           '/connect-4.csv'"
   ]
  },
  {
   "cell_type": "code",
   "execution_count": null,
   "metadata": {
    "colab": {
     "base_uri": "https://localhost:8080/",
     "height": 206
    },
    "id": "b7Z2bZNWI5IH",
    "outputId": "d36e9259-68c5-4d00-fec4-8a6f663c1624"
   },
   "outputs": [],
   "source": [
    "data = pd.read_csv(file_url)\n",
    "data.head()"
   ]
  },
  {
   "cell_type": "code",
   "execution_count": null,
   "metadata": {
    "id": "VxC-g8BlK8_p"
   },
   "outputs": [],
   "source": [
    "target = data.pop('class')"
   ]
  },
  {
   "cell_type": "code",
   "execution_count": null,
   "metadata": {
    "id": "_rCTOLK3Uu9Y"
   },
   "outputs": [],
   "source": [
    "from sklearn.model_selection import train_test_split"
   ]
  },
  {
   "cell_type": "code",
   "execution_count": null,
   "metadata": {
    "id": "EtRRAbjhUrl_"
   },
   "outputs": [],
   "source": [
    "X_train, X_test, y_train, y_test = train_test_split\\\n",
    "                                   (data, target, \\\n",
    "                                    test_size=0.2, \\\n",
    "                                    random_state=42)"
   ]
  },
  {
   "cell_type": "code",
   "execution_count": null,
   "metadata": {
    "colab": {
     "base_uri": "https://localhost:8080/"
    },
    "id": "Y48M3Vy_RN2V",
    "outputId": "73f62d7d-093a-4a49-e665-7a525bebb031"
   },
   "outputs": [],
   "source": [
    "!pip install keras-tuner\n",
    "import kerastuner as kt"
   ]
  },
  {
   "cell_type": "code",
   "execution_count": null,
   "metadata": {
    "id": "HmqzSRA2JUPn"
   },
   "outputs": [],
   "source": [
    "import tensorflow as tf\n",
    "from tensorflow.keras.layers import Dense, Dropout"
   ]
  },
  {
   "cell_type": "code",
   "execution_count": null,
   "metadata": {
    "id": "QQIO-yFFJjCF"
   },
   "outputs": [],
   "source": [
    "tf.random.set_seed(8)"
   ]
  },
  {
   "cell_type": "code",
   "execution_count": null,
   "metadata": {
    "id": "HMhQrxnURgbF"
   },
   "outputs": [],
   "source": [
    "def model_builder(hp):\n",
    "  model = tf.keras.Sequential()\n",
    "\n",
    "  hp_l2 = hp.Choice('l2', values = [0.1, 0.01, 0.001, 0.0001])\n",
    "\n",
    "  reg_fc1 = Dense(512, input_shape=(42,), activation='relu', \\\n",
    "                  kernel_regularizer=tf.keras.regularizers\\\n",
    "                                       .l2(l=hp_l2))\n",
    "  reg_fc2 = Dense(512, activation='relu', \\\n",
    "                  kernel_regularizer=tf.keras.regularizers\\\n",
    "                                             .l2(l=hp_l2))\n",
    "  reg_fc3 = Dense(128, activation='relu', \\\n",
    "                  kernel_regularizer=tf.keras.regularizers\\\n",
    "                                      .l2(l=hp_l2))\n",
    "  reg_fc4 = Dense(128, activation='relu', \\\n",
    "                  kernel_regularizer=tf.keras.regularizers\\\n",
    "                                       .l2(l=hp_l2))\n",
    "  reg_fc5 = Dense(3, activation='softmax')\n",
    "  \n",
    "  model.add(reg_fc1)\n",
    "  model.add(reg_fc2)\n",
    "  model.add(reg_fc3)\n",
    "  model.add(reg_fc4)\n",
    "  model.add(reg_fc5)\n",
    "  \n",
    "  loss = tf.keras.losses.SparseCategoricalCrossentropy()\n",
    "  optimizer = tf.keras.optimizers.Adam(0.001)\n",
    "  model.compile(optimizer = optimizer, loss = loss, \\\n",
    "                metrics = ['accuracy'])\n",
    "  \n",
    "  return model"
   ]
  },
  {
   "cell_type": "code",
   "execution_count": null,
   "metadata": {
    "id": "Y2grB3hVJWp6"
   },
   "outputs": [],
   "source": [
    "tuner = kt.RandomSearch(model_builder, objective='val_accuracy', \\\n",
    "                        max_trials=10)   "
   ]
  },
  {
   "cell_type": "code",
   "execution_count": null,
   "metadata": {
    "colab": {
     "base_uri": "https://localhost:8080/"
    },
    "id": "gFPg_o_GUN-Q",
    "outputId": "f917ea85-f866-45e2-b7c0-01269045408c"
   },
   "outputs": [],
   "source": [
    "tuner.search(X_train, y_train, validation_data=(X_test, y_test))"
   ]
  },
  {
   "cell_type": "code",
   "execution_count": null,
   "metadata": {
    "id": "xyylWBHeU6jV"
   },
   "outputs": [],
   "source": [
    "best_hps = tuner.get_best_hyperparameters()[0]"
   ]
  },
  {
   "cell_type": "code",
   "execution_count": null,
   "metadata": {
    "colab": {
     "base_uri": "https://localhost:8080/"
    },
    "id": "X6FWoSW9Jykf",
    "outputId": "7fff95cc-f4ae-46a1-f7a9-8ebdbebbe781"
   },
   "outputs": [],
   "source": [
    "best_l2 = best_hps.get('l2')\n",
    "best_l2"
   ]
  },
  {
   "cell_type": "code",
   "execution_count": null,
   "metadata": {
    "id": "whwQ7LpvJ_T4"
   },
   "outputs": [],
   "source": [
    "model = tuner.hypermodel.build(best_hps)"
   ]
  },
  {
   "cell_type": "code",
   "execution_count": null,
   "metadata": {
    "colab": {
     "base_uri": "https://localhost:8080/"
    },
    "id": "6XvUYzZFJ_nh",
    "outputId": "027ccb59-45c6-4259-aa68-45a775a45a0f"
   },
   "outputs": [],
   "source": [
    "model.fit(X_train, y_train, epochs=5, \\\n",
    "          validation_data=(X_test, y_test))"
   ]
  }
 ],
 "metadata": {
  "colab": {
   "collapsed_sections": [],
   "name": "Copy of Copy of Exercise06_03.ipynb",
   "provenance": []
  },
  "kernelspec": {
   "display_name": "Python 3",
   "language": "python",
   "name": "python3"
  },
  "language_info": {
   "codemirror_mode": {
    "name": "ipython",
    "version": 3
   },
   "file_extension": ".py",
   "mimetype": "text/x-python",
   "name": "python",
   "nbconvert_exporter": "python",
   "pygments_lexer": "ipython3",
   "version": "3.7.3"
  }
 },
 "nbformat": 4,
 "nbformat_minor": 1
}
