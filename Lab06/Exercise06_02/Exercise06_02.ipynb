{
 "cells": [
  {
   "cell_type": "markdown",
   "metadata": {},
   "source": [
    "# Exercise 6.02: Predicting a Connect-4 Game Outcome Using Dropout"
   ]
  },
  {
   "cell_type": "code",
   "execution_count": null,
   "metadata": {
    "id": "Uf630aTfG4fB"
   },
   "outputs": [],
   "source": [
    "import pandas as pd"
   ]
  },
  {
   "cell_type": "code",
   "execution_count": null,
   "metadata": {
    "id": "9UTKnuyMG4iF"
   },
   "outputs": [],
   "source": [
    "file_url = 'https://raw.githubusercontent.com/PacktWorkshops'\\\n",
    "           '/The-TensorFlow-Workshop/master/Chapter06/dataset'\\\n",
    "           '/connect-4.csv'"
   ]
  },
  {
   "cell_type": "code",
   "execution_count": null,
   "metadata": {
    "colab": {
     "base_uri": "https://localhost:8080/",
     "height": 206
    },
    "id": "b7Z2bZNWI5IH",
    "outputId": "fb299411-a836-4a47-acc9-a8edcf25e7f5"
   },
   "outputs": [],
   "source": [
    "data = pd.read_csv(file_url)\n",
    "data.head()"
   ]
  },
  {
   "cell_type": "code",
   "execution_count": null,
   "metadata": {
    "id": "VxC-g8BlK8_p"
   },
   "outputs": [],
   "source": [
    "target = data.pop('class')"
   ]
  },
  {
   "cell_type": "code",
   "execution_count": null,
   "metadata": {
    "id": "HmqzSRA2JUPn"
   },
   "outputs": [],
   "source": [
    "import tensorflow as tf\n",
    "from tensorflow.keras.layers import Dense, Dropout"
   ]
  },
  {
   "cell_type": "code",
   "execution_count": null,
   "metadata": {
    "id": "QQIO-yFFJjCF"
   },
   "outputs": [],
   "source": [
    "tf.random.set_seed(8)"
   ]
  },
  {
   "cell_type": "code",
   "execution_count": null,
   "metadata": {
    "id": "Y2grB3hVJWp6"
   },
   "outputs": [],
   "source": [
    "model = tf.keras.Sequential()"
   ]
  },
  {
   "cell_type": "code",
   "execution_count": null,
   "metadata": {
    "id": "X6FWoSW9Jykf"
   },
   "outputs": [],
   "source": [
    "fc1 = Dense(512, input_shape=(42,), activation='relu')"
   ]
  },
  {
   "cell_type": "code",
   "execution_count": null,
   "metadata": {
    "id": "whwQ7LpvJ_T4"
   },
   "outputs": [],
   "source": [
    "fc2 = Dense(512, activation='relu')\n",
    "fc3 = Dense(128, activation='relu')\n",
    "fc4 = Dense(128, activation='relu')"
   ]
  },
  {
   "cell_type": "code",
   "execution_count": null,
   "metadata": {
    "id": "6XvUYzZFJ_nh"
   },
   "outputs": [],
   "source": [
    "fc5 = Dense(3, activation='softmax')"
   ]
  },
  {
   "cell_type": "code",
   "execution_count": null,
   "metadata": {
    "id": "tlKy5d30KJ40"
   },
   "outputs": [],
   "source": [
    "model.add(fc1)\n",
    "model.add(Dropout(0.75))\n",
    "model.add(fc2)\n",
    "model.add(Dropout(0.75))\n",
    "model.add(fc3)\n",
    "model.add(Dropout(0.75))\n",
    "model.add(fc4)\n",
    "model.add(Dropout(0.75))\n",
    "model.add(fc5)"
   ]
  },
  {
   "cell_type": "code",
   "execution_count": null,
   "metadata": {
    "colab": {
     "base_uri": "https://localhost:8080/"
    },
    "id": "5Zqh9c_jKOmB",
    "outputId": "386c2cdf-cce0-44e5-f7aa-8712d064e0e7"
   },
   "outputs": [],
   "source": [
    "model.summary()"
   ]
  },
  {
   "cell_type": "code",
   "execution_count": null,
   "metadata": {
    "id": "cY-MBPFJKTCa"
   },
   "outputs": [],
   "source": [
    "loss = tf.keras.losses.SparseCategoricalCrossentropy()"
   ]
  },
  {
   "cell_type": "code",
   "execution_count": null,
   "metadata": {
    "id": "P6jKCl9mNCld"
   },
   "outputs": [],
   "source": [
    "optimizer = tf.keras.optimizers.Adam(0.001)"
   ]
  },
  {
   "cell_type": "code",
   "execution_count": null,
   "metadata": {
    "id": "IPz1teIGKZQw"
   },
   "outputs": [],
   "source": [
    "model.compile(optimizer=optimizer, loss=loss, \\\n",
    "              metrics=['accuracy'])"
   ]
  },
  {
   "cell_type": "code",
   "execution_count": null,
   "metadata": {
    "colab": {
     "base_uri": "https://localhost:8080/"
    },
    "id": "8s1dnVl4K1Ns",
    "outputId": "691bdfd5-1aa8-4cf0-f55d-868be81c8aa3"
   },
   "outputs": [],
   "source": [
    "model.fit(data, target, epochs=5, validation_split=0.2)"
   ]
  }
 ],
 "metadata": {
  "colab": {
   "collapsed_sections": [],
   "name": "Copy of Exercise06_02.ipynb",
   "provenance": []
  },
  "kernelspec": {
   "display_name": "Python 3",
   "language": "python",
   "name": "python3"
  },
  "language_info": {
   "codemirror_mode": {
    "name": "ipython",
    "version": 3
   },
   "file_extension": ".py",
   "mimetype": "text/x-python",
   "name": "python",
   "nbconvert_exporter": "python",
   "pygments_lexer": "ipython3",
   "version": "3.7.3"
  }
 },
 "nbformat": 4,
 "nbformat_minor": 1
}
