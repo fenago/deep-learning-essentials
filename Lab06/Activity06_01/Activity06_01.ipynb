{
 "cells": [
  {
   "cell_type": "markdown",
   "metadata": {},
   "source": [
    "# Activity 6.01: Predicting Income with L1 and L2 Regularizers"
   ]
  },
  {
   "cell_type": "code",
   "execution_count": null,
   "metadata": {
    "id": "Uf630aTfG4fB"
   },
   "outputs": [],
   "source": [
    "import pandas as pd"
   ]
  },
  {
   "cell_type": "code",
   "execution_count": null,
   "metadata": {
    "id": "QkL0GDpKMfJK"
   },
   "outputs": [],
   "source": [
    "usecols = ['AAGE','ADTIND','ADTOCC','SEOTR','WKSWORK', 'PTOTVAL']"
   ]
  },
  {
   "cell_type": "code",
   "execution_count": null,
   "metadata": {
    "id": "9UTKnuyMG4iF"
   },
   "outputs": [],
   "source": [
    "train_url = 'https://raw.githubusercontent.com/PacktWorkshops'\\\n",
    "            '/The-TensorFlow-Workshop/master/Chapter06'\\\n",
    "            '/dataset/census-income-train.csv'"
   ]
  },
  {
   "cell_type": "code",
   "execution_count": null,
   "metadata": {
    "colab": {
     "base_uri": "https://localhost:8080/",
     "height": 206
    },
    "id": "b7Z2bZNWI5IH",
    "outputId": "e153b399-a41b-438f-e654-241cf509b606"
   },
   "outputs": [],
   "source": [
    "train_data = pd.read_csv(train_url, usecols=usecols)\n",
    "train_data.head()"
   ]
  },
  {
   "cell_type": "code",
   "execution_count": null,
   "metadata": {
    "id": "yjnRlBdgqtv_"
   },
   "outputs": [],
   "source": [
    "train_target = train_data.pop('PTOTVAL')"
   ]
  },
  {
   "cell_type": "code",
   "execution_count": null,
   "metadata": {
    "id": "KLCXdV1e8l1Y"
   },
   "outputs": [],
   "source": [
    "test_url = 'https://github.com/PacktWorkshops'\\\n",
    "           '/The-TensorFlow-Workshop/blob/master/Chapter06'\\\n",
    "           '/dataset/census-income-test.csv?raw=true'"
   ]
  },
  {
   "cell_type": "code",
   "execution_count": null,
   "metadata": {
    "colab": {
     "base_uri": "https://localhost:8080/",
     "height": 206
    },
    "id": "PFDO5ktb8l3t",
    "outputId": "d4e3ce9d-90a7-4f97-e232-f8a9ada3afe7"
   },
   "outputs": [],
   "source": [
    "test_data = pd.read_csv(test_url, usecols=usecols)\n",
    "test_data.head()"
   ]
  },
  {
   "cell_type": "code",
   "execution_count": null,
   "metadata": {
    "id": "3keLConzqsmT"
   },
   "outputs": [],
   "source": [
    "test_target = test_data.pop('PTOTVAL')"
   ]
  },
  {
   "cell_type": "code",
   "execution_count": null,
   "metadata": {
    "id": "HmqzSRA2JUPn"
   },
   "outputs": [],
   "source": [
    "import tensorflow as tf\n",
    "from tensorflow.keras.layers import Dense"
   ]
  },
  {
   "cell_type": "code",
   "execution_count": null,
   "metadata": {
    "id": "QQIO-yFFJjCF"
   },
   "outputs": [],
   "source": [
    "tf.random.set_seed(8)"
   ]
  },
  {
   "cell_type": "code",
   "execution_count": null,
   "metadata": {
    "id": "Y2grB3hVJWp6"
   },
   "outputs": [],
   "source": [
    "model = tf.keras.Sequential()"
   ]
  },
  {
   "cell_type": "code",
   "execution_count": null,
   "metadata": {
    "id": "X6FWoSW9Jykf"
   },
   "outputs": [],
   "source": [
    "fc1 = Dense(1048, input_shape=(5,), activation='relu')"
   ]
  },
  {
   "cell_type": "code",
   "execution_count": null,
   "metadata": {
    "id": "whwQ7LpvJ_T4"
   },
   "outputs": [],
   "source": [
    "fc2 = Dense(512, activation='relu')\n",
    "fc3 = Dense(128, activation='relu')\n",
    "fc4 = Dense(64, activation='relu')"
   ]
  },
  {
   "cell_type": "code",
   "execution_count": null,
   "metadata": {
    "id": "6XvUYzZFJ_nh"
   },
   "outputs": [],
   "source": [
    "fc5 = Dense(1)"
   ]
  },
  {
   "cell_type": "code",
   "execution_count": null,
   "metadata": {
    "id": "tlKy5d30KJ40"
   },
   "outputs": [],
   "source": [
    "model.add(fc1)\n",
    "model.add(fc2)\n",
    "model.add(fc3)\n",
    "model.add(fc4)\n",
    "model.add(fc5)"
   ]
  },
  {
   "cell_type": "code",
   "execution_count": null,
   "metadata": {
    "colab": {
     "base_uri": "https://localhost:8080/"
    },
    "id": "5Zqh9c_jKOmB",
    "outputId": "a4f45114-ffc8-4a57-bb77-2a3c7aca0178"
   },
   "outputs": [],
   "source": [
    "model.summary()"
   ]
  },
  {
   "cell_type": "code",
   "execution_count": null,
   "metadata": {
    "id": "P6jKCl9mNCld"
   },
   "outputs": [],
   "source": [
    "optimizer = tf.keras.optimizers.Adam(0.05)"
   ]
  },
  {
   "cell_type": "code",
   "execution_count": null,
   "metadata": {
    "id": "IPz1teIGKZQw"
   },
   "outputs": [],
   "source": [
    "model.compile(optimizer=optimizer, loss='mse', metrics=['mse'])"
   ]
  },
  {
   "cell_type": "code",
   "execution_count": null,
   "metadata": {
    "colab": {
     "base_uri": "https://localhost:8080/"
    },
    "id": "8s1dnVl4K1Ns",
    "outputId": "7be506ba-4d7e-4418-a9a5-2e44c08857bc"
   },
   "outputs": [],
   "source": [
    "model.fit(train_data, train_target, epochs=5, \\\n",
    "          validation_split=0.2)"
   ]
  },
  {
   "cell_type": "code",
   "execution_count": null,
   "metadata": {
    "id": "RTksjI8XXRfD"
   },
   "outputs": [],
   "source": [
    "reg_fc1 = Dense(1048, input_shape=(5,), activation='relu', \\\n",
    "                kernel_regularizer=tf.keras.regularizers\\\n",
    "                                     .l1_l2(l1=0.001, l2=0.001))\n",
    "reg_fc2 = Dense(512, activation='relu', \\\n",
    "                kernel_regularizer=tf.keras.regularizers\\\n",
    "                                     .l1_l2(l1=0.001, l2=0.001))\n",
    "reg_fc3 = Dense(128, activation='relu', \\\n",
    "                kernel_regularizer=tf.keras.regularizers\\\n",
    "                                    .l1_l2(l1=0.001, l2=0.001))\n",
    "reg_fc4 = Dense(64, activation='relu', \\\n",
    "                kernel_regularizer=tf.keras.regularizers\\\n",
    "                                     .l1_l2(l1=0.001, l2=0.001))\n",
    "reg_fc5 = Dense(1, activation='relu')"
   ]
  },
  {
   "cell_type": "code",
   "execution_count": null,
   "metadata": {
    "id": "pCk3LZXLQUfA"
   },
   "outputs": [],
   "source": [
    "model2 = tf.keras.Sequential()\n",
    "model2.add(reg_fc1)\n",
    "model2.add(reg_fc2)\n",
    "model2.add(reg_fc3)\n",
    "model2.add(reg_fc4)\n",
    "model2.add(reg_fc5)"
   ]
  },
  {
   "cell_type": "code",
   "execution_count": null,
   "metadata": {
    "colab": {
     "base_uri": "https://localhost:8080/"
    },
    "id": "cVRQaqcCHR5P",
    "outputId": "ba07a542-d319-4f16-9a2a-4cd88f77245c"
   },
   "outputs": [],
   "source": [
    "model2.summary()"
   ]
  },
  {
   "cell_type": "code",
   "execution_count": null,
   "metadata": {
    "id": "ENpg57ky8P6S"
   },
   "outputs": [],
   "source": [
    "optimizer = tf.keras.optimizers.Adam(0.1)"
   ]
  },
  {
   "cell_type": "code",
   "execution_count": null,
   "metadata": {
    "id": "o95zc6IlHUOk"
   },
   "outputs": [],
   "source": [
    "model2.compile(optimizer=optimizer, loss='mse', metrics=['mse'])"
   ]
  },
  {
   "cell_type": "code",
   "execution_count": null,
   "metadata": {
    "colab": {
     "base_uri": "https://localhost:8080/"
    },
    "id": "jp5SvFsHHWKK",
    "outputId": "04c883b7-911b-414e-ae66-b8cfe293861d"
   },
   "outputs": [],
   "source": [
    "model2.fit(train_data, train_target, epochs=5, \\\n",
    "           validation_split=0.2)"
   ]
  }
 ],
 "metadata": {
  "colab": {
   "collapsed_sections": [],
   "name": "Copy of Activity06_01.ipynb",
   "provenance": []
  },
  "kernelspec": {
   "display_name": "Python 3",
   "language": "python",
   "name": "python3"
  },
  "language_info": {
   "codemirror_mode": {
    "name": "ipython",
    "version": 3
   },
   "file_extension": ".py",
   "mimetype": "text/x-python",
   "name": "python",
   "nbconvert_exporter": "python",
   "pygments_lexer": "ipython3",
   "version": "3.7.3"
  }
 },
 "nbformat": 4,
 "nbformat_minor": 1
}
