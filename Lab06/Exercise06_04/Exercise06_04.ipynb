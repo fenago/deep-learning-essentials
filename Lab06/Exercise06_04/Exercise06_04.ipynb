{
 "cells": [
  {
   "cell_type": "markdown",
   "metadata": {},
   "source": [
    "# Exercise 6.04: Predicting a Connect-4 Game Outcome Using Hyperband from Keras Tuner "
   ]
  },
  {
   "cell_type": "code",
   "execution_count": null,
   "metadata": {
    "id": "Uf630aTfG4fB"
   },
   "outputs": [],
   "source": [
    "import pandas as pd"
   ]
  },
  {
   "cell_type": "code",
   "execution_count": null,
   "metadata": {
    "id": "9UTKnuyMG4iF"
   },
   "outputs": [],
   "source": [
    "file_url = 'https://raw.githubusercontent.com/fenago'\\\n",
    "           '/deep-learning-essentials/main/Lab06/dataset'\\\n",
    "           '/connect-4.csv'"
   ]
  },
  {
   "cell_type": "code",
   "execution_count": null,
   "metadata": {
    "colab": {
     "base_uri": "https://localhost:8080/",
     "height": 206
    },
    "id": "b7Z2bZNWI5IH",
    "outputId": "07b9f56e-a9e9-49b7-e791-3e3c67d9842d"
   },
   "outputs": [],
   "source": [
    "data = pd.read_csv(file_url)\n",
    "data.head()"
   ]
  },
  {
   "cell_type": "code",
   "execution_count": null,
   "metadata": {
    "id": "VxC-g8BlK8_p"
   },
   "outputs": [],
   "source": [
    "target = data.pop('class')"
   ]
  },
  {
   "cell_type": "code",
   "execution_count": null,
   "metadata": {
    "id": "_rCTOLK3Uu9Y"
   },
   "outputs": [],
   "source": [
    "from sklearn.model_selection import train_test_split"
   ]
  },
  {
   "cell_type": "code",
   "execution_count": null,
   "metadata": {
    "id": "EtRRAbjhUrl_"
   },
   "outputs": [],
   "source": [
    "X_train, X_test, y_train, y_test = train_test_split\\\n",
    "                                   (data, target, \\\n",
    "                                    test_size=0.2, \\\n",
    "                                    random_state=42)"
   ]
  },
  {
   "cell_type": "code",
   "execution_count": null,
   "metadata": {
    "colab": {
     "base_uri": "https://localhost:8080/"
    },
    "id": "Y48M3Vy_RN2V",
    "outputId": "f4cbac0b-ff66-4621-c5b7-d6760ff51dec"
   },
   "outputs": [],
   "source": [
    "!pip install -q -U keras-tuner==1.0.1\n",
    "import kerastuner as kt"
   ]
  },
  {
   "cell_type": "code",
   "execution_count": null,
   "metadata": {
    "id": "HmqzSRA2JUPn"
   },
   "outputs": [],
   "source": [
    "import tensorflow as tf\n",
    "from tensorflow.keras.layers import Dense, Dropout"
   ]
  },
  {
   "cell_type": "code",
   "execution_count": null,
   "metadata": {
    "id": "QQIO-yFFJjCF"
   },
   "outputs": [],
   "source": [
    "tf.random.set_seed(8)"
   ]
  },
  {
   "cell_type": "code",
   "execution_count": null,
   "metadata": {
    "id": "HMhQrxnURgbF"
   },
   "outputs": [],
   "source": [
    "def model_builder(hp):\n",
    "  model = tf.keras.Sequential()\n",
    "\n",
    "  hp_units = hp.Int('units', min_value=128, max_value=512, \\\n",
    "                    step=64)\n",
    "\n",
    "  reg_fc1 = Dense(hp_units, input_shape=(42,), \\\n",
    "                  activation='relu', \\\n",
    "                  kernel_regularizer=tf.keras.regularizers\\\n",
    "                                       .l2(l=0.0001))\n",
    "  reg_fc2 = Dense(512, activation='relu', \\\n",
    "                  kernel_regularizer=tf.keras.regularizers\\\n",
    "                                       .l2(l=0.0001))\n",
    "  reg_fc3 = Dense(128, activation='relu', \\\n",
    "                  kernel_regularizer=tf.keras.regularizers\\\n",
    "                                       .l2(l=0.0001))\n",
    "  reg_fc4 = Dense(128, activation='relu', \\\n",
    "                  kernel_regularizer=tf.keras.regularizers\\\n",
    "                                       .l2(l=0.0001))\n",
    "  reg_fc5 = Dense(3, activation='softmax')\n",
    "  \n",
    "  model.add(reg_fc1)\n",
    "  model.add(reg_fc2)\n",
    "  model.add(reg_fc3)\n",
    "  model.add(reg_fc4)\n",
    "  model.add(reg_fc5)\n",
    "  \n",
    "  loss = tf.keras.losses.SparseCategoricalCrossentropy()\n",
    "  hp_learning_rate = hp.Choice('learning_rate', values = [0.01, 0.001, 0.0001]) \n",
    "\n",
    "  optimizer = tf.keras.optimizers.Adam(hp_learning_rate)\n",
    "  model.compile(optimizer = optimizer, loss = loss, \\\n",
    "                metrics = ['accuracy'])\n",
    "  \n",
    "  return model"
   ]
  },
  {
   "cell_type": "code",
   "execution_count": null,
   "metadata": {
    "id": "Y2grB3hVJWp6"
   },
   "outputs": [],
   "source": [
    "tuner = kt.Hyperband(model_builder, objective = 'val_accuracy', \\\n",
    "                     max_epochs = 5)"
   ]
  },
  {
   "cell_type": "code",
   "execution_count": null,
   "metadata": {
    "colab": {
     "base_uri": "https://localhost:8080/"
    },
    "id": "gFPg_o_GUN-Q",
    "outputId": "27b3eaa7-2063-434f-cd95-9b255373caca"
   },
   "outputs": [],
   "source": [
    "tuner.search(X_train, y_train, validation_data=(X_test, y_test))"
   ]
  },
  {
   "cell_type": "code",
   "execution_count": null,
   "metadata": {
    "id": "xyylWBHeU6jV"
   },
   "outputs": [],
   "source": [
    "# Get the optimal hyperparameters\n",
    "best_hps = tuner.get_best_hyperparameters()[0]"
   ]
  },
  {
   "cell_type": "code",
   "execution_count": null,
   "metadata": {
    "colab": {
     "base_uri": "https://localhost:8080/"
    },
    "id": "X6FWoSW9Jykf",
    "outputId": "ccb991a7-a0b6-4353-e8c6-6b7c4e5a5940"
   },
   "outputs": [],
   "source": [
    "best_units = best_hps.get('units')\n",
    "best_units"
   ]
  },
  {
   "cell_type": "code",
   "execution_count": null,
   "metadata": {
    "colab": {
     "base_uri": "https://localhost:8080/"
    },
    "id": "yyBGDmBd2qmZ",
    "outputId": "36da1b80-655d-4d24-d547-d0c3427f65d8"
   },
   "outputs": [],
   "source": [
    "best_lr = best_hps.get('learning_rate')\n",
    "best_lr"
   ]
  },
  {
   "cell_type": "code",
   "execution_count": null,
   "metadata": {
    "id": "whwQ7LpvJ_T4"
   },
   "outputs": [],
   "source": [
    "model = tuner.hypermodel.build(best_hps)"
   ]
  },
  {
   "cell_type": "code",
   "execution_count": null,
   "metadata": {
    "colab": {
     "base_uri": "https://localhost:8080/"
    },
    "id": "6XvUYzZFJ_nh",
    "outputId": "4dcbfa32-eb6a-459f-9b8b-895c852e5fad"
   },
   "outputs": [],
   "source": [
    "model.fit(X_train, y_train, epochs=5, validation_data=(X_test, y_test))"
   ]
  }
 ],
 "metadata": {
  "colab": {
   "collapsed_sections": [],
   "name": "Copy of Exercise06_04.ipynb",
   "provenance": []
  },
  "kernelspec": {
   "display_name": "Python 3",
   "language": "python",
   "name": "python3"
  },
  "language_info": {
   "codemirror_mode": {
    "name": "ipython",
    "version": 3
   },
   "file_extension": ".py",
   "mimetype": "text/x-python",
   "name": "python",
   "nbconvert_exporter": "python",
   "pygments_lexer": "ipython3",
   "version": "3.7.3"
  }
 },
 "nbformat": 4,
 "nbformat_minor": 1
}
