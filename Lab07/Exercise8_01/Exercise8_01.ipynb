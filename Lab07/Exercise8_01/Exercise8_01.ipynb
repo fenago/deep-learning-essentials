{
 "cells": [
  {
   "cell_type": "code",
   "execution_count": null,
   "metadata": {
    "id": "ET_DVhUyt92O"
   },
   "outputs": [],
   "source": [
    "import tensorflow as tf"
   ]
  },
  {
   "cell_type": "code",
   "execution_count": null,
   "metadata": {
    "id": "REdegwDEt92S"
   },
   "outputs": [],
   "source": [
    "file_url = 'https://storage.googleapis.com'\\\n",
    "           '/mledu-datasets/cats_and_dogs_filtered.zip'"
   ]
  },
  {
   "cell_type": "code",
   "execution_count": null,
   "metadata": {
    "colab": {
     "base_uri": "https://localhost:8080/"
    },
    "id": "8ulBTBBCt92V",
    "outputId": "00d673f4-5cd1-4c8d-832e-de8675954cad"
   },
   "outputs": [],
   "source": [
    "zip_dir = tf.keras.utils.get_file('cats_and_dogs.zip', \\\n",
    "                                  origin=file_url, extract=True)"
   ]
  },
  {
   "cell_type": "code",
   "execution_count": null,
   "metadata": {
    "id": "dHeDzI89t92X"
   },
   "outputs": [],
   "source": [
    "import pathlib"
   ]
  },
  {
   "cell_type": "code",
   "execution_count": null,
   "metadata": {
    "id": "UzcjIJ_lt92b"
   },
   "outputs": [],
   "source": [
    "path = pathlib.Path(zip_dir).parent / 'cats_and_dogs_filtered'"
   ]
  },
  {
   "cell_type": "code",
   "execution_count": null,
   "metadata": {
    "id": "XolfYgpTt92d"
   },
   "outputs": [],
   "source": [
    "train_dir = path / 'train'\n",
    "validation_dir = path / 'validation'"
   ]
  },
  {
   "cell_type": "code",
   "execution_count": null,
   "metadata": {
    "id": "cR__-5gBt92g"
   },
   "outputs": [],
   "source": [
    "train_cats_dir = train_dir / 'cats'\n",
    "train_dogs_dir = train_dir /'dogs'\n",
    "validation_cats_dir = validation_dir / 'cats'\n",
    "validation_dogs_dir = validation_dir / 'dogs'"
   ]
  },
  {
   "cell_type": "code",
   "execution_count": null,
   "metadata": {
    "id": "PyVYVVHPt92i"
   },
   "outputs": [],
   "source": [
    "import os"
   ]
  },
  {
   "cell_type": "code",
   "execution_count": null,
   "metadata": {
    "id": "LsaWZtmSt92l"
   },
   "outputs": [],
   "source": [
    "total_train = len(os.listdir(train_cats_dir)) \\\n",
    "              + len(os.listdir(train_dogs_dir))\n",
    "total_val = len(os.listdir(validation_cats_dir)) \\\n",
    "            + len(os.listdir(validation_dogs_dir))"
   ]
  },
  {
   "cell_type": "code",
   "execution_count": null,
   "metadata": {
    "id": "99CW9UFAt92n"
   },
   "outputs": [],
   "source": [
    "from tensorflow.keras.preprocessing.image \\\n",
    "    import ImageDataGenerator"
   ]
  },
  {
   "cell_type": "code",
   "execution_count": null,
   "metadata": {
    "id": "8rFn3rOht92p"
   },
   "outputs": [],
   "source": [
    "train_image_generator = ImageDataGenerator(rescale=1./255)\n",
    "validation_image_generator = ImageDataGenerator(rescale=1./255)"
   ]
  },
  {
   "cell_type": "code",
   "execution_count": null,
   "metadata": {
    "id": "_nWfX19vt92r"
   },
   "outputs": [],
   "source": [
    "batch_size=16\n",
    "img_height = 224\n",
    "img_width = 224"
   ]
  },
  {
   "cell_type": "code",
   "execution_count": null,
   "metadata": {
    "colab": {
     "base_uri": "https://localhost:8080/"
    },
    "id": "ZQOYQzC3t92t",
    "outputId": "9660d103-718d-4d81-f41a-649c0de34417"
   },
   "outputs": [],
   "source": [
    "train_data_gen = train_image_generator.flow_from_directory\\\n",
    "                 (batch_size=batch_size,\\\n",
    "                  directory=train_dir,\\\n",
    "                  shuffle=True,\\\n",
    "                  target_size=(img_height, img_width),\\\n",
    "                  class_mode='binary')"
   ]
  },
  {
   "cell_type": "code",
   "execution_count": null,
   "metadata": {
    "colab": {
     "base_uri": "https://localhost:8080/"
    },
    "id": "EI8b8bSUt92w",
    "outputId": "7d29eddc-d147-4978-d3cf-778c5bafc940"
   },
   "outputs": [],
   "source": [
    "val_data_gen = validation_image_generator.flow_from_directory\\\n",
    "               (batch_size=batch_size,\\\n",
    "                directory=validation_dir,\\\n",
    "                target_size=(img_height, img_width),\\\n",
    "                class_mode='binary')"
   ]
  },
  {
   "cell_type": "code",
   "execution_count": null,
   "metadata": {
    "id": "0scXM26qt92y"
   },
   "outputs": [],
   "source": [
    "import numpy as np\n",
    "import tensorflow as tf\n",
    "from tensorflow.keras import layers"
   ]
  },
  {
   "cell_type": "code",
   "execution_count": null,
   "metadata": {
    "id": "RxZ3JzPvt921"
   },
   "outputs": [],
   "source": [
    "np.random.seed(8)\n",
    "tf.random.set_seed(8)"
   ]
  },
  {
   "cell_type": "code",
   "execution_count": null,
   "metadata": {
    "id": "aBN5YuKFuNWD"
   },
   "outputs": [],
   "source": [
    "from tensorflow.keras.applications import NASNetMobile"
   ]
  },
  {
   "cell_type": "code",
   "execution_count": null,
   "metadata": {
    "colab": {
     "base_uri": "https://localhost:8080/"
    },
    "id": "6GTR4PQluQHa",
    "outputId": "08f00204-6e5a-4e5f-a6a2-bc2346aaa924"
   },
   "outputs": [],
   "source": [
    "base_model = NASNetMobile(include_top=False, \\\n",
    "                          input_shape=(img_height, img_width , 3), \\\n",
    "                          weights='imagenet')"
   ]
  },
  {
   "cell_type": "code",
   "execution_count": null,
   "metadata": {
    "id": "cRmfP2T0uVzX"
   },
   "outputs": [],
   "source": [
    "base_model.trainable =  False"
   ]
  },
  {
   "cell_type": "code",
   "execution_count": null,
   "metadata": {
    "colab": {
     "base_uri": "https://localhost:8080/"
    },
    "id": "7zqBDwD4uZ3U",
    "outputId": "1a31dfd9-478a-465e-fae8-51833d56f663"
   },
   "outputs": [],
   "source": [
    "base_model.summary()"
   ]
  },
  {
   "cell_type": "code",
   "execution_count": null,
   "metadata": {
    "id": "o554RMVXt924"
   },
   "outputs": [],
   "source": [
    "model = tf.keras.Sequential([base_model,\\\n",
    "                             layers.Flatten(),\n",
    "                             layers.Dense(500, \\\n",
    "                                          activation='relu'),\n",
    "                             layers.Dense(1, \\\n",
    "                                          activation='sigmoid')])"
   ]
  },
  {
   "cell_type": "code",
   "execution_count": null,
   "metadata": {
    "id": "gKfNmk93t929"
   },
   "outputs": [],
   "source": [
    "model.compile(loss='binary_crossentropy', \\\n",
    "              optimizer=tf.keras.optimizers.Adam(0.001), \\\n",
    "              metrics=['accuracy'])"
   ]
  },
  {
   "cell_type": "code",
   "execution_count": null,
   "metadata": {
    "colab": {
     "base_uri": "https://localhost:8080/"
    },
    "id": "T3HFXRStt93B",
    "outputId": "6ae1c54d-8d08-4ea8-8564-39b1d13fd8db",
    "scrolled": false
   },
   "outputs": [],
   "source": [
    "model.fit(train_data_gen,\\\n",
    "          steps_per_epoch=total_train // batch_size,\\\n",
    "          epochs=5,\\\n",
    "          validation_data=val_data_gen,\\\n",
    "          validation_steps=total_val // batch_size)"
   ]
  }
 ],
 "metadata": {
  "accelerator": "GPU",
  "colab": {
   "collapsed_sections": [],
   "name": "Copy of Exercise8_01.ipynb",
   "provenance": []
  },
  "kernelspec": {
   "display_name": "Python 3",
   "language": "python",
   "name": "python3"
  },
  "language_info": {
   "codemirror_mode": {
    "name": "ipython",
    "version": 3
   },
   "file_extension": ".py",
   "mimetype": "text/x-python",
   "name": "python",
   "nbconvert_exporter": "python",
   "pygments_lexer": "ipython3",
   "version": "3.7.3"
  }
 },
 "nbformat": 4,
 "nbformat_minor": 1
}
