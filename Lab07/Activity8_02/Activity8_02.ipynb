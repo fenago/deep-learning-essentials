{
 "cells": [
  {
   "cell_type": "code",
   "execution_count": null,
   "metadata": {
    "id": "ET_DVhUyt92O"
   },
   "outputs": [],
   "source": [
    "import tensorflow as tf"
   ]
  },
  {
   "cell_type": "code",
   "execution_count": null,
   "metadata": {
    "id": "REdegwDEt92S"
   },
   "outputs": [],
   "source": [
    "file_url = 'https://storage.googleapis.com'\\\n",
    "           '/mledu-datasets/cats_and_dogs_filtered.zip'"
   ]
  },
  {
   "cell_type": "code",
   "execution_count": null,
   "metadata": {
    "colab": {
     "base_uri": "https://localhost:8080/"
    },
    "id": "8ulBTBBCt92V",
    "outputId": "05e7a44f-4a3f-421f-cef2-a41a01a788b0"
   },
   "outputs": [],
   "source": [
    "zip_dir = tf.keras.utils.get_file('cats_and_dogs.zip', \\\n",
    "                                  origin=file_url, extract=True)"
   ]
  },
  {
   "cell_type": "code",
   "execution_count": null,
   "metadata": {
    "id": "dHeDzI89t92X"
   },
   "outputs": [],
   "source": [
    "import pathlib"
   ]
  },
  {
   "cell_type": "code",
   "execution_count": null,
   "metadata": {
    "id": "UzcjIJ_lt92b"
   },
   "outputs": [],
   "source": [
    "path = pathlib.Path(zip_dir).parent / 'cats_and_dogs_filtered'"
   ]
  },
  {
   "cell_type": "code",
   "execution_count": null,
   "metadata": {
    "id": "XolfYgpTt92d"
   },
   "outputs": [],
   "source": [
    "train_dir = path / 'train'\n",
    "validation_dir = path / 'validation'"
   ]
  },
  {
   "cell_type": "code",
   "execution_count": null,
   "metadata": {
    "id": "LsaWZtmSt92l"
   },
   "outputs": [],
   "source": [
    "total_train = 2000\n",
    "total_val = 1000"
   ]
  },
  {
   "cell_type": "code",
   "execution_count": null,
   "metadata": {
    "id": "99CW9UFAt92n"
   },
   "outputs": [],
   "source": [
    "from tensorflow.keras.preprocessing.image \\\n",
    "    import ImageDataGenerator"
   ]
  },
  {
   "cell_type": "code",
   "execution_count": null,
   "metadata": {
    "id": "8rFn3rOht92p"
   },
   "outputs": [],
   "source": [
    "train_image_generator = ImageDataGenerator(rescale=1./255)\n",
    "validation_image_generator = ImageDataGenerator(rescale=1./255)"
   ]
  },
  {
   "cell_type": "code",
   "execution_count": null,
   "metadata": {
    "id": "_nWfX19vt92r"
   },
   "outputs": [],
   "source": [
    "batch_size=32\n",
    "img_height = 224\n",
    "img_width = 224"
   ]
  },
  {
   "cell_type": "code",
   "execution_count": null,
   "metadata": {
    "colab": {
     "base_uri": "https://localhost:8080/"
    },
    "id": "ZQOYQzC3t92t",
    "outputId": "0210e987-04da-46de-f03d-c5f3afce1ab2"
   },
   "outputs": [],
   "source": [
    "train_data_gen = train_image_generator.flow_from_directory\\\n",
    "                 (batch_size=batch_size,\\\n",
    "                  directory=train_dir,\\\n",
    "                  shuffle=True,\\\n",
    "                  target_size=(img_height, img_width),\\\n",
    "                  class_mode='binary')"
   ]
  },
  {
   "cell_type": "code",
   "execution_count": null,
   "metadata": {
    "colab": {
     "base_uri": "https://localhost:8080/"
    },
    "id": "EI8b8bSUt92w",
    "outputId": "6eb2f1b4-541e-4eec-d9dd-5e71b1b1b5b9"
   },
   "outputs": [],
   "source": [
    "val_data_gen = validation_image_generator.flow_from_directory\\\n",
    "               (batch_size=batch_size,\\\n",
    "                directory=validation_dir,\\\n",
    "                target_size=(img_height, img_width),\\\n",
    "                class_mode='binary')"
   ]
  },
  {
   "cell_type": "code",
   "execution_count": null,
   "metadata": {
    "id": "0scXM26qt92y"
   },
   "outputs": [],
   "source": [
    "import numpy as np\n",
    "import tensorflow as tf\n",
    "from tensorflow.keras import layers"
   ]
  },
  {
   "cell_type": "code",
   "execution_count": null,
   "metadata": {
    "id": "RxZ3JzPvt921"
   },
   "outputs": [],
   "source": [
    "np.random.seed(8)\n",
    "tf.random.set_seed(8)"
   ]
  },
  {
   "cell_type": "code",
   "execution_count": null,
   "metadata": {
    "id": "aBN5YuKFuNWD"
   },
   "outputs": [],
   "source": [
    "import tensorflow_hub as hub"
   ]
  },
  {
   "cell_type": "code",
   "execution_count": null,
   "metadata": {
    "id": "RrRSMv2qG8O1"
   },
   "outputs": [],
   "source": [
    "MODULE_HANDLE = 'https://tfhub.dev/google/efficientnet/b0'\\\n",
    "                '/feature-vector/1'\n",
    "module = hub.load(MODULE_HANDLE)"
   ]
  },
  {
   "cell_type": "code",
   "execution_count": null,
   "metadata": {
    "id": "o554RMVXt924"
   },
   "outputs": [],
   "source": [
    "model = tf.keras.Sequential([\n",
    "        hub.KerasLayer(MODULE_HANDLE,\\\n",
    "                       input_shape=(224, 224, 3)),\n",
    "        layers.Dense(500, activation='relu'),\n",
    "        layers.Dense(1, activation='sigmoid')])"
   ]
  },
  {
   "cell_type": "code",
   "execution_count": null,
   "metadata": {
    "id": "gKfNmk93t929"
   },
   "outputs": [],
   "source": [
    "model.compile(loss='binary_crossentropy', \\\n",
    "              optimizer=tf.keras.optimizers.Adam(0.001), \\\n",
    "              metrics=['accuracy'])"
   ]
  },
  {
   "cell_type": "code",
   "execution_count": null,
   "metadata": {
    "colab": {
     "base_uri": "https://localhost:8080/"
    },
    "id": "T3HFXRStt93B",
    "outputId": "7cb47397-6a9a-4be3-c09b-279bfec2f2a7",
    "scrolled": false
   },
   "outputs": [],
   "source": [
    "model.fit(train_data_gen,\\\n",
    "          steps_per_epoch=total_train // batch_size,\\\n",
    "          epochs=5,\\\n",
    "          validation_data=val_data_gen,\\\n",
    "          validation_steps=total_val // batch_size)"
   ]
  }
 ],
 "metadata": {
  "accelerator": "GPU",
  "colab": {
   "collapsed_sections": [],
   "name": "Copy of Activity8_02.ipynb",
   "provenance": []
  },
  "kernelspec": {
   "display_name": "Python 3",
   "language": "python",
   "name": "python3"
  },
  "language_info": {
   "codemirror_mode": {
    "name": "ipython",
    "version": 3
   },
   "file_extension": ".py",
   "mimetype": "text/x-python",
   "name": "python",
   "nbconvert_exporter": "python",
   "pygments_lexer": "ipython3",
   "version": "3.7.3"
  }
 },
 "nbformat": 4,
 "nbformat_minor": 1
}
