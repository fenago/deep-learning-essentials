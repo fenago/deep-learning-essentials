{
 "cells": [
  {
   "cell_type": "markdown",
   "metadata": {
    "id": "on_SDWrtZEld"
   },
   "source": [
    "# **Exercise 7.02**\n",
    "# **Pooling layer**\n",
    "\n",
    "Now that you’ve taken your first step towards creating your own CNN, let’s contimue to build our base model by adding a Pooling layer .\n"
   ]
  },
  {
   "cell_type": "code",
   "execution_count": null,
   "metadata": {
    "id": "Rdf4rNQvBCfG"
   },
   "outputs": [],
   "source": [
    "import tensorflow as tf\n",
    "from tensorflow.keras import models, layers"
   ]
  },
  {
   "cell_type": "code",
   "execution_count": null,
   "metadata": {
    "id": "-Pe8hA9E6gL0"
   },
   "outputs": [],
   "source": [
    "image_shape = (300, 300, 3)\n",
    "\n",
    "our_first_model = models.Sequential([\n",
    "    layers.Conv2D(filters = 16, kernel_size = (3,3), \\\n",
    "                  input_shape = image_shape), \\\n",
    "                  layers.Activation('relu')])\n"
   ]
  },
  {
   "cell_type": "code",
   "execution_count": null,
   "metadata": {
    "id": "PixZ2s5QbYQ3"
   },
   "outputs": [],
   "source": [
    "our_first_model.add(layers.MaxPool2D(pool_size = (2, 2)))"
   ]
  }
 ],
 "metadata": {
  "colab": {
   "collapsed_sections": [],
   "name": "Copy of Exercise7.02.ipynb",
   "provenance": []
  },
  "kernelspec": {
   "display_name": "Python 3",
   "language": "python",
   "name": "python3"
  },
  "language_info": {
   "codemirror_mode": {
    "name": "ipython",
    "version": 3
   },
   "file_extension": ".py",
   "mimetype": "text/x-python",
   "name": "python",
   "nbconvert_exporter": "python",
   "pygments_lexer": "ipython3",
   "version": "3.7.3"
  }
 },
 "nbformat": 4,
 "nbformat_minor": 1
}
