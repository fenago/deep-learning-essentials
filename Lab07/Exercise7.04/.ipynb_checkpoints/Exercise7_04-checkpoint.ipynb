{
 "cells": [
  {
   "cell_type": "markdown",
   "metadata": {
    "id": "on_SDWrtZEld"
   },
   "source": [
    "# **Exercise 7.04**\n",
    "# **Building a Convolutional Neural Network with Additional Convolutional Layers**\n",
    "\n",
    "You'll do this by building a horses-or-humans classifier that will tell you if a given image contains a horse or a human, where the network is trained to recognize features that determine which is which.\n"
   ]
  },
  {
   "cell_type": "markdown",
   "metadata": {
    "id": "SKFqs95UD0gs"
   },
   "source": [
    "**Import libraries.**"
   ]
  },
  {
   "cell_type": "code",
   "execution_count": null,
   "metadata": {
    "id": "Rdf4rNQvBCfG"
   },
   "outputs": [],
   "source": [
    "import numpy as np\n",
    "import matplotlib.pyplot as plt\n",
    "import matplotlib.image as mpimg\n",
    "import tensorflow as tf\n",
    "import tensorflow_datasets as tfds\n",
    "from tensorflow.keras import models, layers\n",
    "from tensorflow.keras.optimizers import RMSprop\n",
    "from keras_preprocessing import image as kimage\n",
    "tf.config.run_functions_eagerly(True)"
   ]
  },
  {
   "cell_type": "code",
   "execution_count": null,
   "metadata": {
    "colab": {
     "base_uri": "https://localhost:8080/"
    },
    "id": "-Pe8hA9E6gL0",
    "outputId": "6dabcda0-5086-4a4b-ffee-5df04afcba73"
   },
   "outputs": [],
   "source": [
    "(our_train_dataset, our_test_dataset), \\\n",
    "dataset_info = tfds.load('horses_or_humans', \\\n",
    "                         split = ['train', 'test'],\\\n",
    "                         data_dir = 'content/',\\\n",
    "                         shuffle_files = True,\\\n",
    "                         with_info = True)\n",
    "assert isinstance(our_train_dataset, tf.data.Dataset)"
   ]
  },
  {
   "cell_type": "code",
   "execution_count": null,
   "metadata": {
    "id": "nYQN0J9CE2vC"
   },
   "outputs": [],
   "source": [
    "image_shape = dataset_info.features[\"image\"].shape\n",
    "names_of_classes = dataset_info.features[\"label\"].names\n",
    "\n",
    "our_cnn_model = models.Sequential([\n",
    "    layers.Conv2D(filters = 16, kernel_size = (3,3), \\\n",
    "                  input_shape = image_shape),\\\n",
    "    layers.Activation('relu'),\\\n",
    "    layers.MaxPool2D(pool_size = (2, 2)),\\\n",
    "\n",
    "    layers.Conv2D(filters = 32, kernel_size = (3,3)),\\\n",
    "    layers.Activation('relu'),\\\n",
    "    layers.MaxPool2D(pool_size = (2, 2)),\\\n",
    "\n",
    "    layers.Flatten(),\\\n",
    "    layers.Dense(units = 512),\\\n",
    "    layers.Activation('relu'),\\\n",
    "    layers.Dense(units = 1),\\\n",
    "    layers.Activation('sigmoid')\n",
    "])\n"
   ]
  },
  {
   "cell_type": "code",
   "execution_count": null,
   "metadata": {
    "id": "tOi7nQGhE3pI"
   },
   "outputs": [],
   "source": [
    "our_cnn_model.compile(optimizer=RMSprop(learning_rate=0.001), \\\n",
    "                      loss='binary_crossentropy',\\\n",
    "                      metrics=['acc'], loss_weights=None,\\\n",
    "                      weighted_metrics=None, run_eagerly=None,\\\n",
    "                      steps_per_execution=None\n",
    ")\n"
   ]
  },
  {
   "cell_type": "markdown",
   "metadata": {
    "id": "9vOLw5rhX6Yz"
   },
   "source": [
    "**Data preprocessing**\n"
   ]
  },
  {
   "cell_type": "code",
   "execution_count": null,
   "metadata": {
    "colab": {
     "base_uri": "https://localhost:8080/"
    },
    "id": "ClebU9NJg99G",
    "outputId": "e9b285bb-86f5-4870-c411-0a5cc2bea433"
   },
   "outputs": [],
   "source": [
    "\n",
    "normalization_layer = layers.Rescaling(1./255)\n",
    "our_train_dataset = our_train_dataset.map\\\n",
    "                    (lambda x: (normalization_layer(x['image']), \\\n",
    "                                                    x['label']), \\\n",
    "                     num_parallel_calls =  \\\n",
    "                     tf.data.experimental.AUTOTUNE)\n",
    "our_train_dataset = our_train_dataset.cache()\n",
    "our_train_dataset = our_train_dataset.shuffle\\\n",
    "                    (len(our_train_dataset))\n",
    "our_train_dataset = our_train_dataset.batch(128)\n",
    "our_train_dataset = \\\n",
    "our_train_dataset.prefetch(tf.data.experimental.AUTOTUNE)\n",
    "\n",
    "our_test_dataset = our_test_dataset.map\\\n",
    "                   (lambda x: (normalization_layer(x['image']), \\\n",
    "                                                   x['label']),\\\n",
    "                    num_parallel_calls =  tf.data.experimental.AUTOTUNE)\n",
    "our_test_dataset = our_test_dataset.cache()\n",
    "our_test_dataset = our_test_dataset.batch(32)\n",
    "our_test_dataset = our_test_dataset.prefetch\\\n",
    "                   (tf.data.experimental.AUTOTUNE)\n"
   ]
  },
  {
   "cell_type": "markdown",
   "metadata": {
    "id": "mu3Jdwkjwax4"
   },
   "source": [
    "**Fit our model.**"
   ]
  },
  {
   "cell_type": "code",
   "execution_count": null,
   "metadata": {
    "colab": {
     "base_uri": "https://localhost:8080/"
    },
    "id": "Fb1_lgobv81m",
    "outputId": "ca43b1be-1c10-44e3-b0c0-95810da51a97"
   },
   "outputs": [],
   "source": [
    "tf.config.run_functions_eagerly(True)\n",
    "history = our_cnn_model.fit\\\n",
    "          (our_train_dataset, \\\n",
    "          validation_data = our_test_dataset, \\\n",
    "          epochs=15, \\\n",
    "          validation_steps=8, \\\n",
    "          verbose=1)\n"
   ]
  },
  {
   "cell_type": "markdown",
   "metadata": {
    "id": "NtqPsfwNX98U"
   },
   "source": [
    "**Check our predictions.**"
   ]
  },
  {
   "cell_type": "code",
   "execution_count": null,
   "metadata": {
    "colab": {
     "base_uri": "https://localhost:8080/",
     "height": 358
    },
    "id": "DoWp43WxJDNT",
    "outputId": "463e865f-44e9-4b4e-cfc2-51408a616875"
   },
   "outputs": [],
   "source": [
    "import matplotlib.pyplot as plt\n",
    "\n",
    "for images, lables in our_test_dataset.take(1):\n",
    "    plt.imshow(np.asarray(images[0]))\n",
    "    image_to_test = kimage.img_to_array(images[0])\n",
    "    image_to_test = np.array([image_to_test])\n",
    "\n",
    "    prediction = our_cnn_model.predict(image_to_test)\n",
    "    print(prediction)\n",
    "    if prediction > 0.5:\n",
    "        print(\"Image is a human\")\n",
    "    else:\n",
    "        print(\"Image is a horse\")\n"
   ]
  },
  {
   "cell_type": "markdown",
   "metadata": {
    "id": "-8EHQyWGDvWz"
   },
   "source": [
    "**Visualizing representations.**"
   ]
  },
  {
   "cell_type": "code",
   "execution_count": null,
   "metadata": {
    "colab": {
     "base_uri": "https://localhost:8080/",
     "height": 507
    },
    "id": "-5tES8rXFjux",
    "outputId": "0f88b929-775e-4f37-9f7a-0f4e28d391ce"
   },
   "outputs": [],
   "source": [
    "layer_outputs = []\n",
    "for layer in our_cnn_model.layers[1:]:\n",
    "    layer_outputs.append(layer.output)\n",
    "layer_names = []\n",
    "for layer in our_cnn_model.layers:\n",
    "    layer_names.append(layer.name)\n",
    "\n",
    "features_model = models.Model(inputs = our_cnn_model.input, \\\n",
    "                              outputs = layer_outputs)\n",
    "random_sample = our_train_dataset.take(1)\n",
    "\n",
    "layer_predictions = features_model.predict(random_sample)\n",
    "\n",
    "for layer_name, prediction in zip(layer_names, \\\n",
    "                                  layer_predictions):\n",
    "    if len(prediction.shape) != 4:\n",
    "        continue\n",
    "    num_features = prediction.shape[-1]\n",
    "    size = prediction.shape[1]\n",
    "    grid = np.zeros((size, size * num_features))\n",
    "\n",
    "    for i in range(num_features):\n",
    "        img = prediction[0, :, :, i]\n",
    "        img = ((((img - img.mean()) / img.std()) * 64) + 128)\n",
    "        img = np.clip(img, 0, 255).astype('uint8')\n",
    "        grid[:, i * size : (i + 1) * size] = img\n",
    "\n",
    "    scale = 20. / num_features\n",
    "    plt.figure(figsize=(scale * num_features, scale))\n",
    "    plt.title(layer_name)\n",
    "    plt.imshow(grid)\n"
   ]
  }
 ],
 "metadata": {
  "colab": {
   "collapsed_sections": [],
   "name": "Copy of Exercise7.04.ipynb",
   "provenance": []
  },
  "kernelspec": {
   "display_name": "Python 3",
   "language": "python",
   "name": "python3"
  },
  "language_info": {
   "codemirror_mode": {
    "name": "ipython",
    "version": 3
   },
   "file_extension": ".py",
   "mimetype": "text/x-python",
   "name": "python",
   "nbconvert_exporter": "python",
   "pygments_lexer": "ipython3",
   "version": "3.7.3"
  }
 },
 "nbformat": 4,
 "nbformat_minor": 1
}
