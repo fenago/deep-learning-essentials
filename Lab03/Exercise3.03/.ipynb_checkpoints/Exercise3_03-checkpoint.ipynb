{
 "cells": [
  {
   "cell_type": "markdown",
   "metadata": {
    "id": "bu2JcdqgoHga"
   },
   "source": [
    "# Exercise 3.03: Downloading a Model from TensorFlow Hub "
   ]
  },
  {
   "cell_type": "code",
   "execution_count": null,
   "metadata": {
    "executionInfo": {
     "elapsed": 3124,
     "status": "ok",
     "timestamp": 1637047423644,
     "user": {
      "displayName": "",
      "photoUrl": "",
      "userId": ""
     },
     "user_tz": -330
    },
    "id": "CEdDOi3voHgc"
   },
   "outputs": [],
   "source": [
    "import tensorflow as tf\n",
    "import tensorflow_hub as hub\n",
    "from tensorflow.python.client import session\n",
    "from tensorflow.python.summary import summary\n",
    "from tensorflow.python.framework import ops\n",
    "import os"
   ]
  },
  {
   "cell_type": "code",
   "execution_count": null,
   "metadata": {
    "executionInfo": {
     "elapsed": 404,
     "status": "ok",
     "timestamp": 1637047429823,
     "user": {
      "displayName": "",
      "photoUrl": "",
      "userId": ""
     },
     "user_tz": -330
    },
    "id": "YmRmmuECoHge"
   },
   "outputs": [],
   "source": [
    "logdir = \"logs/\""
   ]
  },
  {
   "cell_type": "code",
   "execution_count": null,
   "metadata": {
    "executionInfo": {
     "elapsed": 6420,
     "status": "ok",
     "timestamp": 1637047440763,
     "user": {
      "displayName": "",
      "photoUrl": "",
      "userId": ""
     },
     "user_tz": -330
    },
    "id": "biNttbZboHgf"
   },
   "outputs": [],
   "source": [
    "module = hub.load('https://tfhub.dev/google/imagenet'\\\n",
    "                  '/inception_v3/classification/5')"
   ]
  },
  {
   "cell_type": "code",
   "execution_count": null,
   "metadata": {
    "executionInfo": {
     "elapsed": 427,
     "status": "ok",
     "timestamp": 1637047446270,
     "user": {
      "displayName": "",
      "photoUrl": "",
      "userId": ""
     },
     "user_tz": -330
    },
    "id": "eND1U9huoHgh"
   },
   "outputs": [],
   "source": [
    "model = module.signatures[\"serving_default\"]"
   ]
  },
  {
   "cell_type": "code",
   "execution_count": null,
   "metadata": {
    "executionInfo": {
     "elapsed": 669,
     "status": "ok",
     "timestamp": 1637047449298,
     "user": {
      "displayName": "",
      "photoUrl": "",
      "userId": ""
     },
     "user_tz": -330
    },
    "id": "6Q_euoozoHgh"
   },
   "outputs": [],
   "source": [
    "with session.Session(graph=ops.Graph()) as sess:\n",
    "    file_writer = summary.FileWriter(logdir)\n",
    "    file_writer.add_graph(model.graph)"
   ]
  }
 ],
 "metadata": {
  "colab": {
   "name": "Copy of Exercise3_03.ipynb",
   "provenance": [
    {
     "file_id": "https://github.com/fenago/deep-learning-essentials/blob/main/Lab03/Exercise3.03/Exercise3_03.ipynb",
     "timestamp": 1637047560058
    }
   ]
  },
  "kernelspec": {
   "display_name": "Python 3",
   "language": "python",
   "name": "python3"
  },
  "language_info": {
   "codemirror_mode": {
    "name": "ipython",
    "version": 3
   },
   "file_extension": ".py",
   "mimetype": "text/x-python",
   "name": "python",
   "nbconvert_exporter": "python",
   "pygments_lexer": "ipython3",
   "version": "3.7.3"
  }
 },
 "nbformat": 4,
 "nbformat_minor": 1
}
