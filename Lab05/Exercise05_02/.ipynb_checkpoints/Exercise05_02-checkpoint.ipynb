{
 "cells": [
  {
   "cell_type": "markdown",
   "metadata": {},
   "source": [
    "# Exercise 5.02: Classification Evaluation Metrics"
   ]
  },
  {
   "cell_type": "code",
   "execution_count": null,
   "metadata": {
    "colab": {},
    "colab_type": "code",
    "id": "Uf630aTfG4fB"
   },
   "outputs": [],
   "source": [
    "import pandas as pd"
   ]
  },
  {
   "cell_type": "code",
   "execution_count": null,
   "metadata": {
    "colab": {},
    "colab_type": "code",
    "id": "9UTKnuyMG4iF"
   },
   "outputs": [],
   "source": [
    "train_url = 'https://raw.githubusercontent.com/fenago'\\\n",
    "            '/deep-learning-essentials/main/Lab05/dataset'\\\n",
    "            '/dota2PreparedTrain.csv'"
   ]
  },
  {
   "cell_type": "code",
   "execution_count": null,
   "metadata": {
    "colab": {},
    "colab_type": "code",
    "id": "b7Z2bZNWI5IH"
   },
   "outputs": [],
   "source": [
    "X_train = pd.read_csv(train_url, header=None)"
   ]
  },
  {
   "cell_type": "code",
   "execution_count": null,
   "metadata": {
    "colab": {},
    "colab_type": "code",
    "id": "VxC-g8BlK8_p"
   },
   "outputs": [],
   "source": [
    "y_train = X_train.pop(0)"
   ]
  },
  {
   "cell_type": "code",
   "execution_count": null,
   "metadata": {
    "colab": {},
    "colab_type": "code",
    "id": "ebA9420bIoO4"
   },
   "outputs": [],
   "source": [
    "test_url = 'https://raw.githubusercontent.com/fenago'\\\n",
    "           '/deep-learning-essentials/main/Lab05/dataset'\\\n",
    "           '/dota2PreparedTest.csv'"
   ]
  },
  {
   "cell_type": "code",
   "execution_count": null,
   "metadata": {
    "colab": {},
    "colab_type": "code",
    "id": "YLFkBXLDIoS0"
   },
   "outputs": [],
   "source": [
    "X_test = pd.read_csv(test_url, header=None)"
   ]
  },
  {
   "cell_type": "code",
   "execution_count": null,
   "metadata": {
    "colab": {},
    "colab_type": "code",
    "id": "B9H_6jKELJgr"
   },
   "outputs": [],
   "source": [
    "y_test = X_test.pop(0)"
   ]
  },
  {
   "cell_type": "code",
   "execution_count": null,
   "metadata": {
    "colab": {},
    "colab_type": "code",
    "id": "8tFM7rsXPzV4"
   },
   "outputs": [],
   "source": [
    "import tensorflow as tf\n",
    "from tensorflow.keras.utils import get_file"
   ]
  },
  {
   "cell_type": "code",
   "execution_count": null,
   "metadata": {
    "colab": {},
    "colab_type": "code",
    "id": "lguAYRVYP3NQ"
   },
   "outputs": [],
   "source": [
    "model_url = 'https://github.com/fenago'\\\n",
    "            '/deep-learning-essentials/blob/main/Lab05'\\\n",
    "            '/model/exercise5_01_model.h5?raw=true'"
   ]
  },
  {
   "cell_type": "code",
   "execution_count": null,
   "metadata": {
    "colab": {
     "base_uri": "https://localhost:8080/",
     "height": 51
    },
    "colab_type": "code",
    "id": "52xRoAbqSZZg",
    "outputId": "96c311ff-a518-4346-aea1-893e51bc6004"
   },
   "outputs": [],
   "source": [
    "model_path = get_file('exercise5_01_model.h5', model_url)"
   ]
  },
  {
   "cell_type": "code",
   "execution_count": null,
   "metadata": {
    "colab": {},
    "colab_type": "code",
    "id": "ksdLaDuNPzhC"
   },
   "outputs": [],
   "source": [
    "model = tf.keras.models.load_model(model_path)"
   ]
  },
  {
   "cell_type": "code",
   "execution_count": null,
   "metadata": {
    "colab": {
     "base_uri": "https://localhost:8080/",
     "height": 323
    },
    "colab_type": "code",
    "id": "HmqzSRA2JUPn",
    "outputId": "83f39e90-64aa-4583-b5ce-dee95d6e2973"
   },
   "outputs": [],
   "source": [
    "model.summary()"
   ]
  },
  {
   "cell_type": "code",
   "execution_count": null,
   "metadata": {
    "colab": {
     "base_uri": "https://localhost:8080/",
     "height": 102
    },
    "colab_type": "code",
    "id": "RTksjI8XXRfD",
    "outputId": "735fb038-1fe4-4ba0-c104-2d952ce04c17"
   },
   "outputs": [],
   "source": [
    "preds_proba = model.predict(X_test)\n",
    "preds_proba[:5]"
   ]
  },
  {
   "cell_type": "code",
   "execution_count": null,
   "metadata": {
    "colab": {
     "base_uri": "https://localhost:8080/",
     "height": 102
    },
    "colab_type": "code",
    "id": "k708U5JHTYRj",
    "outputId": "0c9f67d0-bc7a-4153-ecab-a5a89dcb7f4d"
   },
   "outputs": [],
   "source": [
    "preds = preds_proba >= 0.5\n",
    "preds[:5]"
   ]
  },
  {
   "cell_type": "code",
   "execution_count": null,
   "metadata": {
    "colab": {},
    "colab_type": "code",
    "id": "pCk3LZXLQUfA"
   },
   "outputs": [],
   "source": [
    "from tensorflow.keras.metrics import Accuracy, Precision, Recall"
   ]
  },
  {
   "cell_type": "code",
   "execution_count": null,
   "metadata": {
    "colab": {},
    "colab_type": "code",
    "id": "EbvyTHs6TEjq"
   },
   "outputs": [],
   "source": [
    "acc = Accuracy()\n",
    "prec = Precision()\n",
    "rec = Recall()"
   ]
  },
  {
   "cell_type": "code",
   "execution_count": null,
   "metadata": {
    "colab": {
     "base_uri": "https://localhost:8080/",
     "height": 34
    },
    "colab_type": "code",
    "id": "Ro_VtrgFj02d",
    "outputId": "05972944-4360-4ac9-b042-865301debe17"
   },
   "outputs": [],
   "source": [
    "acc.update_state(preds, y_test)\n",
    "acc_results = acc.result().numpy()\n",
    "acc_results"
   ]
  },
  {
   "cell_type": "code",
   "execution_count": null,
   "metadata": {
    "colab": {
     "base_uri": "https://localhost:8080/",
     "height": 34
    },
    "colab_type": "code",
    "id": "qUnf29EVTklW",
    "outputId": "05a5eeb3-e1ab-4465-a5f1-8bd9c2d622d4"
   },
   "outputs": [],
   "source": [
    "prec.update_state(preds, y_test)\n",
    "prec_results = prec.result().numpy()\n",
    "prec_results"
   ]
  },
  {
   "cell_type": "code",
   "execution_count": null,
   "metadata": {
    "colab": {
     "base_uri": "https://localhost:8080/",
     "height": 34
    },
    "colab_type": "code",
    "id": "f8ebaSj3TpIK",
    "outputId": "f1bbaa4e-1d51-4c28-e61a-baeb6c267cd8"
   },
   "outputs": [],
   "source": [
    "rec.update_state(preds, y_test)\n",
    "rec_results = rec.result().numpy()\n",
    "rec_results"
   ]
  },
  {
   "cell_type": "code",
   "execution_count": null,
   "metadata": {
    "colab": {
     "base_uri": "https://localhost:8080/",
     "height": 34
    },
    "colab_type": "code",
    "id": "vPcszhhgTsr9",
    "outputId": "e0fe354f-b5e6-4695-ea10-d62cea85792f"
   },
   "outputs": [],
   "source": [
    "f1 = 2*(prec_results * rec_results) / (prec_results + rec_results)\n",
    "f1"
   ]
  }
 ],
 "metadata": {
  "colab": {
   "collapsed_sections": [],
   "name": "Exercise05_02.ipynb",
   "provenance": []
  },
  "kernelspec": {
   "display_name": "Python 3",
   "language": "python",
   "name": "python3"
  },
  "language_info": {
   "codemirror_mode": {
    "name": "ipython",
    "version": 3
   },
   "file_extension": ".py",
   "mimetype": "text/x-python",
   "name": "python",
   "nbconvert_exporter": "python",
   "pygments_lexer": "ipython3",
   "version": "3.7.3"
  }
 },
 "nbformat": 4,
 "nbformat_minor": 1
}
