{
 "cells": [
  {
   "cell_type": "markdown",
   "metadata": {
    "id": "ens7NXaIBo5B"
   },
   "source": [
    "# Exercise 9.01: Training an ANN for Sequential Data - Nvidia Stock Prediction"
   ]
  },
  {
   "cell_type": "code",
   "execution_count": null,
   "metadata": {
    "executionInfo": {
     "elapsed": 961,
     "status": "ok",
     "timestamp": 1628910400840,
     "user": {
      "displayName": "Anthony So",
      "photoUrl": "https://lh3.googleusercontent.com/a-/AOh14GiYepcJQjaVrQ1i01LEROgsJ738vi03JrR51Ryb3w=s64",
      "userId": "11809607246124237079"
     },
     "user_tz": -600
    },
    "id": "xu5qmCMzBPRh"
   },
   "outputs": [],
   "source": [
    "import numpy as np\n",
    "import matplotlib.pyplot as plt\n",
    "import pandas as pd\n",
    "from sklearn.preprocessing import StandardScaler, MinMaxScaler"
   ]
  },
  {
   "cell_type": "code",
   "execution_count": null,
   "metadata": {
    "executionInfo": {
     "elapsed": 1472,
     "status": "ok",
     "timestamp": 1628910402309,
     "user": {
      "displayName": "Anthony So",
      "photoUrl": "https://lh3.googleusercontent.com/a-/AOh14GiYepcJQjaVrQ1i01LEROgsJ738vi03JrR51Ryb3w=s64",
      "userId": "11809607246124237079"
     },
     "user_tz": -600
    },
    "id": "mV7CUGFuHPdD"
   },
   "outputs": [],
   "source": [
    "import io\n",
    "data = pd.read_csv(\"NVDA.csv\")"
   ]
  },
  {
   "cell_type": "code",
   "execution_count": null,
   "metadata": {
    "colab": {
     "base_uri": "https://localhost:8080/",
     "height": 204
    },
    "executionInfo": {
     "elapsed": 40,
     "status": "ok",
     "timestamp": 1628910402310,
     "user": {
      "displayName": "Anthony So",
      "photoUrl": "https://lh3.googleusercontent.com/a-/AOh14GiYepcJQjaVrQ1i01LEROgsJ738vi03JrR51Ryb3w=s64",
      "userId": "11809607246124237079"
     },
     "user_tz": -600
    },
    "id": "p-PvOhEgGQTb",
    "outputId": "31e5e7bd-d6fb-4530-9bc6-314d6876bdbe"
   },
   "outputs": [],
   "source": [
    "data.head()"
   ]
  },
  {
   "cell_type": "code",
   "execution_count": null,
   "metadata": {
    "colab": {
     "base_uri": "https://localhost:8080/",
     "height": 204
    },
    "executionInfo": {
     "elapsed": 38,
     "status": "ok",
     "timestamp": 1628910402311,
     "user": {
      "displayName": "Anthony So",
      "photoUrl": "https://lh3.googleusercontent.com/a-/AOh14GiYepcJQjaVrQ1i01LEROgsJ738vi03JrR51Ryb3w=s64",
      "userId": "11809607246124237079"
     },
     "user_tz": -600
    },
    "id": "TPMChQpIGQQ1",
    "outputId": "38547ba4-855e-4c4f-affc-f9803e408c46"
   },
   "outputs": [],
   "source": [
    "data.tail()"
   ]
  },
  {
   "cell_type": "code",
   "execution_count": null,
   "metadata": {
    "colab": {
     "base_uri": "https://localhost:8080/",
     "height": 419
    },
    "executionInfo": {
     "elapsed": 37,
     "status": "ok",
     "timestamp": 1628910402312,
     "user": {
      "displayName": "Anthony So",
      "photoUrl": "https://lh3.googleusercontent.com/a-/AOh14GiYepcJQjaVrQ1i01LEROgsJ738vi03JrR51Ryb3w=s64",
      "userId": "11809607246124237079"
     },
     "user_tz": -600
    },
    "id": "AKQoC9YDGQOE",
    "outputId": "20a43d06-0f50-4219-ee33-b9b4d6238f1a"
   },
   "outputs": [],
   "source": [
    "# Split Training data\n",
    "data_training = data[data['Date']<'2019-01-01'].copy()\n",
    "data_training"
   ]
  },
  {
   "cell_type": "code",
   "execution_count": null,
   "metadata": {
    "colab": {
     "base_uri": "https://localhost:8080/",
     "height": 419
    },
    "executionInfo": {
     "elapsed": 35,
     "status": "ok",
     "timestamp": 1628910402312,
     "user": {
      "displayName": "Anthony So",
      "photoUrl": "https://lh3.googleusercontent.com/a-/AOh14GiYepcJQjaVrQ1i01LEROgsJ738vi03JrR51Ryb3w=s64",
      "userId": "11809607246124237079"
     },
     "user_tz": -600
    },
    "id": "YosTrjSpGQLP",
    "outputId": "58084762-7ea6-43ad-a5ab-57ae1e0410d6"
   },
   "outputs": [],
   "source": [
    "# Split Testing data\n",
    "data_test = data[data['Date']>='2019-01-01'].copy()\n",
    "data_test"
   ]
  },
  {
   "cell_type": "code",
   "execution_count": null,
   "metadata": {
    "colab": {
     "base_uri": "https://localhost:8080/",
     "height": 204
    },
    "executionInfo": {
     "elapsed": 33,
     "status": "ok",
     "timestamp": 1628910402313,
     "user": {
      "displayName": "Anthony So",
      "photoUrl": "https://lh3.googleusercontent.com/a-/AOh14GiYepcJQjaVrQ1i01LEROgsJ738vi03JrR51Ryb3w=s64",
      "userId": "11809607246124237079"
     },
     "user_tz": -600
    },
    "id": "FrzSHWXxGQIJ",
    "outputId": "915964a4-99eb-4611-9024-03b6cd61ae04"
   },
   "outputs": [],
   "source": [
    "training_data = data_training.drop\\\n",
    "                (['Date', 'Adj Close'], axis = 1)\n",
    "training_data.head()"
   ]
  },
  {
   "cell_type": "code",
   "execution_count": null,
   "metadata": {
    "colab": {
     "base_uri": "https://localhost:8080/"
    },
    "executionInfo": {
     "elapsed": 32,
     "status": "ok",
     "timestamp": 1628910402313,
     "user": {
      "displayName": "Anthony So",
      "photoUrl": "https://lh3.googleusercontent.com/a-/AOh14GiYepcJQjaVrQ1i01LEROgsJ738vi03JrR51Ryb3w=s64",
      "userId": "11809607246124237079"
     },
     "user_tz": -600
    },
    "id": "rbpyr2HVGQAV",
    "outputId": "b4a1b0f1-70d0-4320-832d-c7b6fe195bdd"
   },
   "outputs": [],
   "source": [
    "scaler = MinMaxScaler()\n",
    "training_data = scaler.fit_transform(training_data)\n",
    "training_data"
   ]
  },
  {
   "cell_type": "code",
   "execution_count": null,
   "metadata": {
    "executionInfo": {
     "elapsed": 27,
     "status": "ok",
     "timestamp": 1628910402314,
     "user": {
      "displayName": "Anthony So",
      "photoUrl": "https://lh3.googleusercontent.com/a-/AOh14GiYepcJQjaVrQ1i01LEROgsJ738vi03JrR51Ryb3w=s64",
      "userId": "11809607246124237079"
     },
     "user_tz": -600
    },
    "id": "JXzPFh0xGPy5"
   },
   "outputs": [],
   "source": [
    "X_train = []\n",
    "y_train = []"
   ]
  },
  {
   "cell_type": "code",
   "execution_count": null,
   "metadata": {
    "colab": {
     "base_uri": "https://localhost:8080/"
    },
    "executionInfo": {
     "elapsed": 26,
     "status": "ok",
     "timestamp": 1628910402315,
     "user": {
      "displayName": "Anthony So",
      "photoUrl": "https://lh3.googleusercontent.com/a-/AOh14GiYepcJQjaVrQ1i01LEROgsJ738vi03JrR51Ryb3w=s64",
      "userId": "11809607246124237079"
     },
     "user_tz": -600
    },
    "id": "QC3zVTSzMAOA",
    "outputId": "cb9ef2aa-98e6-46f9-c0e1-094b809d61b8"
   },
   "outputs": [],
   "source": [
    "training_data.shape[0]"
   ]
  },
  {
   "cell_type": "code",
   "execution_count": null,
   "metadata": {
    "executionInfo": {
     "elapsed": 25,
     "status": "ok",
     "timestamp": 1628910402317,
     "user": {
      "displayName": "Anthony So",
      "photoUrl": "https://lh3.googleusercontent.com/a-/AOh14GiYepcJQjaVrQ1i01LEROgsJ738vi03JrR51Ryb3w=s64",
      "userId": "11809607246124237079"
     },
     "user_tz": -600
    },
    "id": "y12mp2VKLwO2"
   },
   "outputs": [],
   "source": [
    "for i in range(60, training_data.shape[0]):\n",
    "  X_train.append(training_data[i-60:i])\n",
    "  y_train.append(training_data[i, 0])"
   ]
  },
  {
   "cell_type": "code",
   "execution_count": null,
   "metadata": {
    "executionInfo": {
     "elapsed": 25,
     "status": "ok",
     "timestamp": 1628910402318,
     "user": {
      "displayName": "Anthony So",
      "photoUrl": "https://lh3.googleusercontent.com/a-/AOh14GiYepcJQjaVrQ1i01LEROgsJ738vi03JrR51Ryb3w=s64",
      "userId": "11809607246124237079"
     },
     "user_tz": -600
    },
    "id": "hUScocQhMIS3"
   },
   "outputs": [],
   "source": [
    "X_train, y_train = np.array(X_train), np.array(y_train)"
   ]
  },
  {
   "cell_type": "code",
   "execution_count": null,
   "metadata": {
    "colab": {
     "base_uri": "https://localhost:8080/"
    },
    "executionInfo": {
     "elapsed": 26,
     "status": "ok",
     "timestamp": 1628910402319,
     "user": {
      "displayName": "Anthony So",
      "photoUrl": "https://lh3.googleusercontent.com/a-/AOh14GiYepcJQjaVrQ1i01LEROgsJ738vi03JrR51Ryb3w=s64",
      "userId": "11809607246124237079"
     },
     "user_tz": -600
    },
    "id": "dtsU8mPOMI6d",
    "outputId": "215650df-2c81-4aee-fe49-666007fe1450"
   },
   "outputs": [],
   "source": [
    "X_train.shape, y_train.shape"
   ]
  },
  {
   "cell_type": "code",
   "execution_count": null,
   "metadata": {
    "colab": {
     "base_uri": "https://localhost:8080/"
    },
    "executionInfo": {
     "elapsed": 539,
     "status": "ok",
     "timestamp": 1628910546385,
     "user": {
      "displayName": "Anthony So",
      "photoUrl": "https://lh3.googleusercontent.com/a-/AOh14GiYepcJQjaVrQ1i01LEROgsJ738vi03JrR51Ryb3w=s64",
      "userId": "11809607246124237079"
     },
     "user_tz": -600
    },
    "id": "x-Y5vWPlok6I",
    "outputId": "30b86b35-204d-4dba-f3e7-8c4c8ae615f8"
   },
   "outputs": [],
   "source": [
    "X_old_shape = X_train.shape\n",
    "X_train = X_train.reshape(X_old_shape[0], \\\n",
    "                          X_old_shape[1]*X_old_shape[2]) \n",
    "X_train.shape\n"
   ]
  },
  {
   "cell_type": "code",
   "execution_count": null,
   "metadata": {
    "executionInfo": {
     "elapsed": 607,
     "status": "ok",
     "timestamp": 1628910550881,
     "user": {
      "displayName": "Anthony So",
      "photoUrl": "https://lh3.googleusercontent.com/a-/AOh14GiYepcJQjaVrQ1i01LEROgsJ738vi03JrR51Ryb3w=s64",
      "userId": "11809607246124237079"
     },
     "user_tz": -600
    },
    "id": "b7h5JXMzMJi-"
   },
   "outputs": [],
   "source": [
    "from tensorflow.keras import Sequential\n",
    "from tensorflow.keras.layers import Input, Dense, Dropout"
   ]
  },
  {
   "cell_type": "code",
   "execution_count": null,
   "metadata": {
    "colab": {
     "base_uri": "https://localhost:8080/"
    },
    "executionInfo": {
     "elapsed": 554,
     "status": "ok",
     "timestamp": 1628910551433,
     "user": {
      "displayName": "Anthony So",
      "photoUrl": "https://lh3.googleusercontent.com/a-/AOh14GiYepcJQjaVrQ1i01LEROgsJ738vi03JrR51Ryb3w=s64",
      "userId": "11809607246124237079"
     },
     "user_tz": -600
    },
    "id": "qHlSKJ6gXseD",
    "outputId": "01b6294e-e715-406e-b977-df8380c80a0c"
   },
   "outputs": [],
   "source": [
    "regressor_ann = Sequential()\n",
    " \n",
    "regressor_ann.add(Input(shape = (300,)))\n",
    "regressor_ann.add(Dense(units = 512, activation = 'relu'))\n",
    "regressor_ann.add(Dropout(0.2))\n",
    " \n",
    "regressor_ann.add(Dense(units = 128, activation = 'relu'))\n",
    "regressor_ann.add(Dropout(0.3))\n",
    " \n",
    "regressor_ann.add(Dense(units = 64, activation = 'relu'))\n",
    "regressor_ann.add(Dropout(0.4))\n",
    " \n",
    "regressor_ann.add(Dense(units = 16, activation = 'relu'))\n",
    "regressor_ann.add(Dropout(0.5))\n",
    " \n",
    "regressor_ann.add(Dense(units = 1))"
   ]
  },
  {
   "cell_type": "code",
   "execution_count": null,
   "metadata": {
    "colab": {
     "base_uri": "https://localhost:8080/"
    },
    "executionInfo": {
     "elapsed": 5,
     "status": "ok",
     "timestamp": 1628910552768,
     "user": {
      "displayName": "Anthony So",
      "photoUrl": "https://lh3.googleusercontent.com/a-/AOh14GiYepcJQjaVrQ1i01LEROgsJ738vi03JrR51Ryb3w=s64",
      "userId": "11809607246124237079"
     },
     "user_tz": -600
    },
    "id": "W1VBleFqY6tx",
    "outputId": "25632a82-b50e-4dab-f60a-658974bffc2d"
   },
   "outputs": [],
   "source": [
    "regressor_ann.summary()"
   ]
  },
  {
   "cell_type": "code",
   "execution_count": null,
   "metadata": {
    "executionInfo": {
     "elapsed": 3,
     "status": "ok",
     "timestamp": 1628910554606,
     "user": {
      "displayName": "Anthony So",
      "photoUrl": "https://lh3.googleusercontent.com/a-/AOh14GiYepcJQjaVrQ1i01LEROgsJ738vi03JrR51Ryb3w=s64",
      "userId": "11809607246124237079"
     },
     "user_tz": -600
    },
    "id": "gW6C3oNuaf42"
   },
   "outputs": [],
   "source": [
    "regressor_ann.compile(optimizer='adam', \\\n",
    "                      loss = 'mean_squared_error')"
   ]
  },
  {
   "cell_type": "code",
   "execution_count": null,
   "metadata": {
    "colab": {
     "base_uri": "https://localhost:8080/"
    },
    "executionInfo": {
     "elapsed": 3318,
     "status": "ok",
     "timestamp": 1628910558381,
     "user": {
      "displayName": "Anthony So",
      "photoUrl": "https://lh3.googleusercontent.com/a-/AOh14GiYepcJQjaVrQ1i01LEROgsJ738vi03JrR51Ryb3w=s64",
      "userId": "11809607246124237079"
     },
     "user_tz": -600
    },
    "id": "Et-JkM7Ra26F",
    "outputId": "badaf44f-6c4d-4e65-f769-a8f5b14dfc51"
   },
   "outputs": [],
   "source": [
    "regressor_ann.fit(X_train, y_train, epochs=10, batch_size=32)"
   ]
  },
  {
   "cell_type": "code",
   "execution_count": null,
   "metadata": {
    "colab": {
     "base_uri": "https://localhost:8080/",
     "height": 204
    },
    "executionInfo": {
     "elapsed": 8,
     "status": "ok",
     "timestamp": 1628910560160,
     "user": {
      "displayName": "Anthony So",
      "photoUrl": "https://lh3.googleusercontent.com/a-/AOh14GiYepcJQjaVrQ1i01LEROgsJ738vi03JrR51Ryb3w=s64",
      "userId": "11809607246124237079"
     },
     "user_tz": -600
    },
    "id": "tMofo5Wpbc8t",
    "outputId": "7ad5f786-851a-47d6-c8dc-08935183454f"
   },
   "outputs": [],
   "source": [
    "## Now we will test and predict stock price\n",
    "\n",
    "## Prepare test dataset\n",
    "data_test.head()"
   ]
  },
  {
   "cell_type": "code",
   "execution_count": null,
   "metadata": {
    "colab": {
     "base_uri": "https://localhost:8080/",
     "height": 1000
    },
    "executionInfo": {
     "elapsed": 609,
     "status": "ok",
     "timestamp": 1628910561578,
     "user": {
      "displayName": "Anthony So",
      "photoUrl": "https://lh3.googleusercontent.com/a-/AOh14GiYepcJQjaVrQ1i01LEROgsJ738vi03JrR51Ryb3w=s64",
      "userId": "11809607246124237079"
     },
     "user_tz": -600
    },
    "id": "rPsGKgftcEwO",
    "outputId": "d3369dd6-fb0f-4009-ebd9-01288f1ec97a"
   },
   "outputs": [],
   "source": [
    "data_training.tail(60)"
   ]
  },
  {
   "cell_type": "code",
   "execution_count": null,
   "metadata": {
    "executionInfo": {
     "elapsed": 504,
     "status": "ok",
     "timestamp": 1628910564861,
     "user": {
      "displayName": "Anthony So",
      "photoUrl": "https://lh3.googleusercontent.com/a-/AOh14GiYepcJQjaVrQ1i01LEROgsJ738vi03JrR51Ryb3w=s64",
      "userId": "11809607246124237079"
     },
     "user_tz": -600
    },
    "id": "z8Pf6RLFcMvE"
   },
   "outputs": [],
   "source": [
    "past_60_days = data_training.tail(60)\n"
   ]
  },
  {
   "cell_type": "code",
   "execution_count": null,
   "metadata": {
    "colab": {
     "base_uri": "https://localhost:8080/",
     "height": 204
    },
    "executionInfo": {
     "elapsed": 5,
     "status": "ok",
     "timestamp": 1628910565276,
     "user": {
      "displayName": "Anthony So",
      "photoUrl": "https://lh3.googleusercontent.com/a-/AOh14GiYepcJQjaVrQ1i01LEROgsJ738vi03JrR51Ryb3w=s64",
      "userId": "11809607246124237079"
     },
     "user_tz": -600
    },
    "id": "0E2X6bIXcb9o",
    "outputId": "f636559f-2281-4ec7-a843-6db0b052c0a2"
   },
   "outputs": [],
   "source": [
    "df = past_60_days.append(data_test, ignore_index = True)\n",
    "df = df.drop(['Date', 'Adj Close'], axis = 1)\n",
    "df.head()"
   ]
  },
  {
   "cell_type": "code",
   "execution_count": null,
   "metadata": {
    "colab": {
     "base_uri": "https://localhost:8080/"
    },
    "executionInfo": {
     "elapsed": 510,
     "status": "ok",
     "timestamp": 1628910568440,
     "user": {
      "displayName": "Anthony So",
      "photoUrl": "https://lh3.googleusercontent.com/a-/AOh14GiYepcJQjaVrQ1i01LEROgsJ738vi03JrR51Ryb3w=s64",
      "userId": "11809607246124237079"
     },
     "user_tz": -600
    },
    "id": "QMHtD87TdaQH",
    "outputId": "5a541510-9021-4c86-cbbb-c989b6ece8d2"
   },
   "outputs": [],
   "source": [
    "inputs = scaler.transform(df)"
   ]
  },
  {
   "cell_type": "code",
   "execution_count": null,
   "metadata": {
    "executionInfo": {
     "elapsed": 2,
     "status": "ok",
     "timestamp": 1628910569056,
     "user": {
      "displayName": "Anthony So",
      "photoUrl": "https://lh3.googleusercontent.com/a-/AOh14GiYepcJQjaVrQ1i01LEROgsJ738vi03JrR51Ryb3w=s64",
      "userId": "11809607246124237079"
     },
     "user_tz": -600
    },
    "id": "g2fnMrx_dtBt"
   },
   "outputs": [],
   "source": [
    "X_test = []\n",
    "y_test = []\n",
    "\n",
    "for i in range(60, inputs.shape[0]):\n",
    "  X_test.append(inputs[i-60:i])\n",
    "  y_test.append(inputs[i, 0])"
   ]
  },
  {
   "cell_type": "code",
   "execution_count": null,
   "metadata": {
    "colab": {
     "base_uri": "https://localhost:8080/"
    },
    "executionInfo": {
     "elapsed": 420,
     "status": "ok",
     "timestamp": 1628910657140,
     "user": {
      "displayName": "Anthony So",
      "photoUrl": "https://lh3.googleusercontent.com/a-/AOh14GiYepcJQjaVrQ1i01LEROgsJ738vi03JrR51Ryb3w=s64",
      "userId": "11809607246124237079"
     },
     "user_tz": -600
    },
    "id": "N8h5oBO9e3hZ",
    "outputId": "5616df5b-03ef-40fe-c7d8-b6c19893cc1a"
   },
   "outputs": [],
   "source": [
    "X_test, y_test = np.array(X_test), np.array(y_test)\n",
    " \n",
    "X_old_shape = X_test.shape\n",
    "X_test = X_test.reshape(X_old_shape[0], \\\n",
    "                        X_old_shape[1] * X_old_shape[2])\n",
    " \n",
    "X_test.shape, y_test.shape"
   ]
  },
  {
   "cell_type": "code",
   "execution_count": null,
   "metadata": {
    "executionInfo": {
     "elapsed": 410,
     "status": "ok",
     "timestamp": 1628910660770,
     "user": {
      "displayName": "Anthony So",
      "photoUrl": "https://lh3.googleusercontent.com/a-/AOh14GiYepcJQjaVrQ1i01LEROgsJ738vi03JrR51Ryb3w=s64",
      "userId": "11809607246124237079"
     },
     "user_tz": -600
    },
    "id": "pxdpKEQ8fbQ5"
   },
   "outputs": [],
   "source": [
    "y_pred = regressor_ann.predict(X_test)"
   ]
  },
  {
   "cell_type": "code",
   "execution_count": null,
   "metadata": {
    "colab": {
     "base_uri": "https://localhost:8080/"
    },
    "executionInfo": {
     "elapsed": 428,
     "status": "ok",
     "timestamp": 1628910664173,
     "user": {
      "displayName": "Anthony So",
      "photoUrl": "https://lh3.googleusercontent.com/a-/AOh14GiYepcJQjaVrQ1i01LEROgsJ738vi03JrR51Ryb3w=s64",
      "userId": "11809607246124237079"
     },
     "user_tz": -600
    },
    "id": "l19VpqjrfbHV",
    "outputId": "fb9cf4a3-5b9f-40b9-d9e6-b08d25d85eb9"
   },
   "outputs": [],
   "source": [
    "scaler.scale_"
   ]
  },
  {
   "cell_type": "code",
   "execution_count": null,
   "metadata": {
    "colab": {
     "base_uri": "https://localhost:8080/"
    },
    "executionInfo": {
     "elapsed": 3,
     "status": "ok",
     "timestamp": 1628910665488,
     "user": {
      "displayName": "Anthony So",
      "photoUrl": "https://lh3.googleusercontent.com/a-/AOh14GiYepcJQjaVrQ1i01LEROgsJ738vi03JrR51Ryb3w=s64",
      "userId": "11809607246124237079"
     },
     "user_tz": -600
    },
    "id": "FNEDhqhWfa6Q",
    "outputId": "9c4a1b67-35a1-40f1-f437-30b109c7dc52"
   },
   "outputs": [],
   "source": [
    "scale = 1/3.70274364e-03\n",
    "scale"
   ]
  },
  {
   "cell_type": "code",
   "execution_count": null,
   "metadata": {
    "executionInfo": {
     "elapsed": 2,
     "status": "ok",
     "timestamp": 1628910666352,
     "user": {
      "displayName": "Anthony So",
      "photoUrl": "https://lh3.googleusercontent.com/a-/AOh14GiYepcJQjaVrQ1i01LEROgsJ738vi03JrR51Ryb3w=s64",
      "userId": "11809607246124237079"
     },
     "user_tz": -600
    },
    "id": "HAwN2g0WgOi9"
   },
   "outputs": [],
   "source": [
    "y_pred = y_pred*scale\n",
    "y_test = y_test*scale"
   ]
  },
  {
   "cell_type": "code",
   "execution_count": null,
   "metadata": {
    "colab": {
     "base_uri": "https://localhost:8080/",
     "height": 350
    },
    "executionInfo": {
     "elapsed": 804,
     "status": "ok",
     "timestamp": 1628910679777,
     "user": {
      "displayName": "Anthony So",
      "photoUrl": "https://lh3.googleusercontent.com/a-/AOh14GiYepcJQjaVrQ1i01LEROgsJ738vi03JrR51Ryb3w=s64",
      "userId": "11809607246124237079"
     },
     "user_tz": -600
    },
    "id": "GYIBqDiSgvwE",
    "outputId": "ac604ae0-f69f-423b-d918-78612953c4cc"
   },
   "outputs": [],
   "source": [
    "plt.figure(figsize=(14,5))\n",
    "plt.plot(y_test, color = 'black', label = \"Real NVDA Stock Price\")\n",
    "plt.plot(y_pred, color = 'gray', label = 'Predicted NVDA Stock Price')\n",
    "plt.title('NVDA Stock Price Prediction')\n",
    "plt.xlabel('time')\n",
    "plt.ylabel('NVDA Stock Price')\n",
    "plt.legend()\n",
    "plt.show()\n"
   ]
  },
  {
   "cell_type": "code",
   "execution_count": null,
   "metadata": {},
   "outputs": [],
   "source": []
  }
 ],
 "metadata": {
  "colab": {
   "collapsed_sections": [],
   "name": "Exercise_9_1.ipynb",
   "provenance": []
  },
  "kernelspec": {
   "display_name": "Python 3",
   "language": "python",
   "name": "python3"
  },
  "language_info": {
   "codemirror_mode": {
    "name": "ipython",
    "version": 3
   },
   "file_extension": ".py",
   "mimetype": "text/x-python",
   "name": "python",
   "nbconvert_exporter": "python",
   "pygments_lexer": "ipython3",
   "version": "3.7.3"
  }
 },
 "nbformat": 4,
 "nbformat_minor": 1
}
