{
 "cells": [
  {
   "cell_type": "markdown",
   "metadata": {
    "id": "iBRXoTy8_r5Y"
   },
   "source": [
    "# Exercise 11.02: Generating Sequences with GANs \n",
    "\n"
   ]
  },
  {
   "cell_type": "code",
   "execution_count": null,
   "metadata": {
    "id": "SkC3aBz8EJwb"
   },
   "outputs": [],
   "source": [
    "from keras.models import Sequential\n",
    "from numpy import hstack, zeros, ones\n",
    "from numpy.random import rand, randn\n",
    "from keras.layers import Dense\n",
    "import matplotlib.pyplot as plt "
   ]
  },
  {
   "cell_type": "code",
   "execution_count": null,
   "metadata": {
    "colab": {
     "base_uri": "https://localhost:8080/",
     "height": 1000
    },
    "id": "QivGQ3tJ-UJ5",
    "outputId": "cdce0a15-d92b-47a0-ba3d-f17d8786c736"
   },
   "outputs": [],
   "source": [
    "def define_gen(latent_dim, n_outputs=2):\n",
    "    model = Sequential()\n",
    "    model.add(Dense(15, activation='relu', \\\n",
    "              kernel_initializer='he_uniform', \\\n",
    "              input_dim=latent_dim))\n",
    "    model.add(Dense(n_outputs, activation='linear'))\n",
    "    return model"
   ]
  },
  {
   "cell_type": "code",
   "execution_count": null,
   "metadata": {},
   "outputs": [],
   "source": [
    "def define_disc(n_inputs=2):\n",
    "    model = Sequential()\n",
    "    model.add(Dense(25, activation='relu', \\\n",
    "                    kernel_initializer='he_uniform', \\\n",
    "                    input_dim=n_inputs))\n",
    "    model.add(Dense(1, activation='sigmoid'))\n",
    "    model.compile(loss='binary_crossentropy', \\\n",
    "                  optimizer='adam', metrics=['accuracy'])\n",
    "    return model"
   ]
  },
  {
   "cell_type": "code",
   "execution_count": null,
   "metadata": {},
   "outputs": [],
   "source": [
    "def define_your_gan(generator, discriminator):\n",
    "    discriminator.trainable = False\n",
    "    model = Sequential()\n",
    "    model.add(generator)\n",
    "    model.add(discriminator)\n",
    "    model.compile(loss='binary_crossentropy', optimizer='adam')\n",
    "    return model"
   ]
  },
  {
   "cell_type": "code",
   "execution_count": null,
   "metadata": {},
   "outputs": [],
   "source": [
    "def generate_real(n):\n",
    "    X1 = rand(n) - 0.5\n",
    "    X2 = X1 * X1\n",
    "    X1 = X1.reshape(n, 1)\n",
    "    X2 = X2.reshape(n, 1)\n",
    "    X = hstack((X1, X2))\n",
    "    y = ones((n, 1))\n",
    "    return X, y"
   ]
  },
  {
   "cell_type": "code",
   "execution_count": null,
   "metadata": {},
   "outputs": [],
   "source": [
    "def gen_latent_points(latent_dim, n):\n",
    "    x_input = randn(latent_dim * n)\n",
    "    x_input = x_input.reshape(n, latent_dim)\n",
    "    return x_input\n"
   ]
  },
  {
   "cell_type": "code",
   "execution_count": null,
   "metadata": {},
   "outputs": [],
   "source": [
    "def gen_fake(generator, latent_dim, n):\n",
    "    x_input = gen_latent_points(latent_dim, n)\n",
    "    X = generator.predict(x_input)\n",
    "    y = zeros((n, 1))\n",
    "    return X, y"
   ]
  },
  {
   "cell_type": "code",
   "execution_count": null,
   "metadata": {},
   "outputs": [],
   "source": [
    "def performance_summary(epoch, generator, \\\n",
    "                        discriminator, latent_dim, n=100):\n",
    "    x_real, y_real = generate_real(n)\n",
    "    _, acc_real = discriminator.evaluate\\\n",
    "                  (x_real, y_real, verbose=0)\n",
    "    x_fake, y_fake = gen_fake\\\n",
    "                     (generator, latent_dim, n)\n",
    "    _, acc_fake = discriminator.evaluate\\\n",
    "                  (x_fake, y_fake, verbose=0)\n",
    "    print(epoch, acc_real, acc_fake)\n",
    "    plt.scatter(x_real[:, 0], x_real[:, 1], color='green')\n",
    "    plt.scatter(x_fake[:, 0], x_fake[:, 1], color='red')\n",
    "    plt.show()"
   ]
  },
  {
   "cell_type": "code",
   "execution_count": null,
   "metadata": {},
   "outputs": [],
   "source": [
    "def train(g_model, d_model, your_gan_model, \\\n",
    "          latent_dim, n_epochs=1000, \\\n",
    "          n_batch=128, n_eval=100):\n",
    "    half_batch = int(n_batch / 2)\n",
    "    for i in range(n_epochs):\n",
    "        x_real, y_real = generate_real(half_batch)\n",
    "        x_fake, y_fake = gen_fake\\\n",
    "                         (g_model, latent_dim, half_batch)\n",
    "        d_model.train_on_batch(x_real, y_real)\n",
    "        d_model.train_on_batch(x_fake, y_fake)\n",
    "        x_gan = gen_latent_points(latent_dim, n_batch)\n",
    "        y_gan = ones((n_batch, 1))\n",
    "        your_gan_model.train_on_batch(x_gan, y_gan)\n",
    "        if (i+1) % n_eval == 0:\n",
    "            performance_summary(i, g_model, d_model, latent_dim)"
   ]
  },
  {
   "cell_type": "code",
   "execution_count": null,
   "metadata": {},
   "outputs": [],
   "source": [
    "latent_dim = 5\n",
    "generator = define_gen(latent_dim)\n",
    "discriminator = define_disc()\n",
    "your_gan_model = define_your_gan(generator, discriminator)\n",
    "train(generator, discriminator, your_gan_model, latent_dim)"
   ]
  },
  {
   "cell_type": "code",
   "execution_count": null,
   "metadata": {},
   "outputs": [],
   "source": []
  }
 ],
 "metadata": {
  "accelerator": "GPU",
  "colab": {
   "collapsed_sections": [],
   "name": "Exercise 11.2.ipynb",
   "provenance": []
  },
  "kernelspec": {
   "display_name": "Python 3",
   "language": "python",
   "name": "python3"
  },
  "language_info": {
   "codemirror_mode": {
    "name": "ipython",
    "version": 3
   },
   "file_extension": ".py",
   "mimetype": "text/x-python",
   "name": "python",
   "nbconvert_exporter": "python",
   "pygments_lexer": "ipython3",
   "version": "3.7.3"
  }
 },
 "nbformat": 4,
 "nbformat_minor": 1
}
