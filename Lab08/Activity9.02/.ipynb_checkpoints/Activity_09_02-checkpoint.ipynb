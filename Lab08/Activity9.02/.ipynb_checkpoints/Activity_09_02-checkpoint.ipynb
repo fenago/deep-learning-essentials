{
 "cells": [
  {
   "cell_type": "markdown",
   "metadata": {
    "id": "DnspKB5nYt5P"
   },
   "source": [
    "# Activity 9.02: Building an RNN for predicting Tweets Sentiments"
   ]
  },
  {
   "cell_type": "code",
   "execution_count": null,
   "metadata": {
    "id": "xu5qmCMzBPRh"
   },
   "outputs": [],
   "source": [
    "import numpy as np\n",
    "import pandas as pd"
   ]
  },
  {
   "cell_type": "code",
   "execution_count": null,
   "metadata": {
    "id": "mV7CUGFuHPdD"
   },
   "outputs": [],
   "source": [
    "data = pd.read_csv(\"../Datasets/Tweets.csv\")"
   ]
  },
  {
   "cell_type": "code",
   "execution_count": null,
   "metadata": {
    "colab": {
     "base_uri": "https://localhost:8080/",
     "height": 445
    },
    "id": "p-PvOhEgGQTb",
    "outputId": "cb007aa3-34ce-4340-93f2-31b6fcbe00ae"
   },
   "outputs": [],
   "source": [
    "data.head()"
   ]
  },
  {
   "cell_type": "code",
   "execution_count": null,
   "metadata": {
    "colab": {
     "base_uri": "https://localhost:8080/",
     "height": 479
    },
    "id": "TPMChQpIGQQ1",
    "outputId": "4cb87534-2773-4c0e-851e-5e182f53d2e8"
   },
   "outputs": [],
   "source": [
    "data.tail()"
   ]
  },
  {
   "cell_type": "code",
   "execution_count": null,
   "metadata": {
    "id": "kG_g_RXZO6Pa"
   },
   "outputs": [],
   "source": [
    "df = data[['text','airline_sentiment']]"
   ]
  },
  {
   "cell_type": "code",
   "execution_count": null,
   "metadata": {
    "id": "fc1PTDFW0qBw"
   },
   "outputs": [],
   "source": [
    "df = df[df['airline_sentiment'] != 'neutral']"
   ]
  },
  {
   "cell_type": "code",
   "execution_count": null,
   "metadata": {
    "id": "6MInEgoixAFN"
   },
   "outputs": [],
   "source": [
    "y = df['airline_sentiment'].map({'negative':0, 'positive':1})\\\n",
    "                           .values"
   ]
  },
  {
   "cell_type": "code",
   "execution_count": null,
   "metadata": {
    "id": "4cqnRMzLwxZR"
   },
   "outputs": [],
   "source": [
    "X = df['text']"
   ]
  },
  {
   "cell_type": "code",
   "execution_count": null,
   "metadata": {
    "id": "rvvjcZO2XSwh"
   },
   "outputs": [],
   "source": [
    "from tensorflow.keras.preprocessing.text import Tokenizer\n",
    "from tensorflow.keras.preprocessing.sequence \\\n",
    "    import pad_sequences"
   ]
  },
  {
   "cell_type": "code",
   "execution_count": null,
   "metadata": {
    "id": "XNrwvhPvtRQo"
   },
   "outputs": [],
   "source": [
    "tokenizer = Tokenizer(num_words=10000)"
   ]
  },
  {
   "cell_type": "code",
   "execution_count": null,
   "metadata": {
    "id": "fYl98Ohks4wX"
   },
   "outputs": [],
   "source": [
    "tokenizer.fit_on_texts(X)"
   ]
  },
  {
   "cell_type": "code",
   "execution_count": null,
   "metadata": {
    "colab": {
     "base_uri": "https://localhost:8080/"
    },
    "id": "ZeXSpFx3tbEy",
    "outputId": "f02e9278-c211-49a8-fbb7-59c28a0af1b9"
   },
   "outputs": [],
   "source": [
    "tokenizer.word_index"
   ]
  },
  {
   "cell_type": "code",
   "execution_count": null,
   "metadata": {
    "id": "_XT30r0vtbHd"
   },
   "outputs": [],
   "source": [
    "vocab_size = len(tokenizer.word_index) + 1"
   ]
  },
  {
   "cell_type": "code",
   "execution_count": null,
   "metadata": {
    "id": "tPk0BxUcXj97"
   },
   "outputs": [],
   "source": [
    "encoded_tweets = tokenizer.texts_to_sequences(X)"
   ]
  },
  {
   "cell_type": "code",
   "execution_count": null,
   "metadata": {
    "id": "oHM8ue8_XkAh"
   },
   "outputs": [],
   "source": [
    "padded_tweets = pad_sequences(encoded_tweets, maxlen=280, \\\n",
    "                              padding='post')"
   ]
  },
  {
   "cell_type": "code",
   "execution_count": null,
   "metadata": {
    "colab": {
     "base_uri": "https://localhost:8080/"
    },
    "id": "4bkM91AKXkFx",
    "outputId": "1a20d111-5d4b-4164-b4ec-50322fa80eeb"
   },
   "outputs": [],
   "source": [
    "padded_tweets.shape"
   ]
  },
  {
   "cell_type": "code",
   "execution_count": null,
   "metadata": {
    "id": "SpqeGC__YDVP"
   },
   "outputs": [],
   "source": [
    "indices = np.random.permutation(padded_tweets.shape[0])"
   ]
  },
  {
   "cell_type": "code",
   "execution_count": null,
   "metadata": {
    "id": "vVShMgrlYMgd"
   },
   "outputs": [],
   "source": [
    "train_idx = indices[:10000]\n",
    "test_idx = indices[10000:]"
   ]
  },
  {
   "cell_type": "code",
   "execution_count": null,
   "metadata": {
    "id": "L9vqaN3AYPSk"
   },
   "outputs": [],
   "source": [
    "X_train = padded_tweets[train_idx,]\n",
    "X_test = padded_tweets[test_idx,]\n",
    "y_train = y[train_idx,]\n",
    "y_test = y[test_idx,]"
   ]
  },
  {
   "cell_type": "code",
   "execution_count": null,
   "metadata": {
    "id": "b7h5JXMzMJi-"
   },
   "outputs": [],
   "source": [
    "from tensorflow.keras import Sequential\n",
    "from tensorflow.keras.layers import Dense, LSTM, Dropout, Embedding"
   ]
  },
  {
   "cell_type": "code",
   "execution_count": null,
   "metadata": {
    "id": "oHF176G8vF9s"
   },
   "outputs": [],
   "source": [
    "embedding_vector_length = 300"
   ]
  },
  {
   "cell_type": "code",
   "execution_count": null,
   "metadata": {
    "id": "4wNvp-GOvIMH"
   },
   "outputs": [],
   "source": [
    "model = Sequential()\n",
    "    \n",
    "model.add(Embedding(vocab_size, embedding_vector_length, \\\n",
    "                    input_length=280))\n",
    "\n",
    "model.add(LSTM(units= 50, activation = 'relu', \\\n",
    "               return_sequences = True))\n",
    "model.add(Dropout(0.2))\n",
    "\n",
    "model.add(LSTM(100, activation = 'relu'))\n",
    "model.add(Dropout(0.2))\n",
    "\n",
    "model.add(Dense(1, activation='sigmoid'))"
   ]
  },
  {
   "cell_type": "code",
   "execution_count": null,
   "metadata": {
    "colab": {
     "base_uri": "https://localhost:8080/"
    },
    "id": "W1VBleFqY6tx",
    "outputId": "3c1e6b4b-f1bd-48ae-c3a9-c8b4be75f5a9"
   },
   "outputs": [],
   "source": [
    "model.summary()"
   ]
  },
  {
   "cell_type": "code",
   "execution_count": null,
   "metadata": {
    "id": "gW6C3oNuaf42"
   },
   "outputs": [],
   "source": [
    "model.compile(optimizer='adam', loss='binary_crossentropy', \\\n",
    "              metrics=['accuracy'])"
   ]
  },
  {
   "cell_type": "code",
   "execution_count": null,
   "metadata": {
    "colab": {
     "base_uri": "https://localhost:8080/"
    },
    "id": "1qyWdMCqQOnm",
    "outputId": "84948b45-d6df-4d57-be96-8e699b044d88"
   },
   "outputs": [],
   "source": [
    "model.fit(X_train, y_train, epochs=2, batch_size=32)"
   ]
  },
  {
   "cell_type": "code",
   "execution_count": null,
   "metadata": {},
   "outputs": [],
   "source": []
  }
 ],
 "metadata": {
  "colab": {
   "collapsed_sections": [],
   "name": "Activity_9_2.ipynb",
   "provenance": []
  },
  "kernelspec": {
   "display_name": "Python 3",
   "language": "python",
   "name": "python3"
  },
  "language_info": {
   "codemirror_mode": {
    "name": "ipython",
    "version": 3
   },
   "file_extension": ".py",
   "mimetype": "text/x-python",
   "name": "python",
   "nbconvert_exporter": "python",
   "pygments_lexer": "ipython3",
   "version": "3.7.3"
  }
 },
 "nbformat": 4,
 "nbformat_minor": 1
}
