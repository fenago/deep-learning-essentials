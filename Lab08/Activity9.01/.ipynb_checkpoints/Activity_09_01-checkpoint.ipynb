{
 "cells": [
  {
   "cell_type": "markdown",
   "metadata": {
    "id": "DnspKB5nYt5P"
   },
   "source": [
    "# Activity 9.01: Building an RNN with Multiple LSTM Layers to predict power consumption"
   ]
  },
  {
   "cell_type": "code",
   "execution_count": null,
   "metadata": {
    "id": "xu5qmCMzBPRh"
   },
   "outputs": [],
   "source": [
    "import numpy as np\n",
    "import matplotlib.pyplot as plt\n",
    "import pandas as pd\n",
    "import datetime\n",
    "from sklearn.preprocessing import StandardScaler, MinMaxScaler"
   ]
  },
  {
   "cell_type": "code",
   "execution_count": null,
   "metadata": {
    "id": "mV7CUGFuHPdD"
   },
   "outputs": [],
   "source": [
    "data = pd.read_csv(\"../Datasets/household_power_consumption.csv\")"
   ]
  },
  {
   "cell_type": "code",
   "execution_count": null,
   "metadata": {
    "id": "f1wsgjN1SE7W"
   },
   "outputs": [],
   "source": [
    "data['Date'] = pd.to_datetime(data['Date'], format=\"%d/%m/%Y\")"
   ]
  },
  {
   "cell_type": "code",
   "execution_count": null,
   "metadata": {
    "id": "ri8Fl2D3RNEK"
   },
   "outputs": [],
   "source": [
    "data['Datetime'] = data['Date'].dt.strftime('%Y-%m-%d') + ' '\\\n",
    "                   +  data['Time']"
   ]
  },
  {
   "cell_type": "code",
   "execution_count": null,
   "metadata": {
    "id": "MEWWZQfiMwNu"
   },
   "outputs": [],
   "source": [
    "data['Datetime'] = pd.to_datetime(data['Datetime'])"
   ]
  },
  {
   "cell_type": "code",
   "execution_count": null,
   "metadata": {
    "id": "buhjh25qQvRw"
   },
   "outputs": [],
   "source": [
    "data = data.sort_values(['Datetime'])"
   ]
  },
  {
   "cell_type": "code",
   "execution_count": null,
   "metadata": {
    "id": "533l3aklOLHW"
   },
   "outputs": [],
   "source": [
    "num_cols = ['Global_active_power', 'Global_reactive_power', \\\n",
    "            'Voltage', 'Global_intensity', 'Sub_metering_1', \\\n",
    "            'Sub_metering_2', 'Sub_metering_3']"
   ]
  },
  {
   "cell_type": "code",
   "execution_count": null,
   "metadata": {
    "id": "mYqLKO7xOV4f"
   },
   "outputs": [],
   "source": [
    "for col in num_cols:\n",
    "    data[col] = pd.to_numeric(data[col], errors='coerce')"
   ]
  },
  {
   "cell_type": "code",
   "execution_count": null,
   "metadata": {
    "colab": {
     "base_uri": "https://localhost:8080/",
     "height": 204
    },
    "id": "p-PvOhEgGQTb",
    "outputId": "4559bca1-3284-40de-89e6-73a6f0f3a51f"
   },
   "outputs": [],
   "source": [
    "data.head()"
   ]
  },
  {
   "cell_type": "code",
   "execution_count": null,
   "metadata": {
    "colab": {
     "base_uri": "https://localhost:8080/",
     "height": 204
    },
    "id": "TPMChQpIGQQ1",
    "outputId": "62a61b63-3b68-4ecb-f122-dff14ff9fda5"
   },
   "outputs": [],
   "source": [
    "data.tail()"
   ]
  },
  {
   "cell_type": "code",
   "execution_count": null,
   "metadata": {
    "id": "kG_g_RXZO6Pa"
   },
   "outputs": [],
   "source": [
    "for col in num_cols:\n",
    "    data[col].fillna(data[col].mean(), inplace=True)"
   ]
  },
  {
   "cell_type": "code",
   "execution_count": null,
   "metadata": {
    "id": "rvvjcZO2XSwh"
   },
   "outputs": [],
   "source": [
    "df = data.drop(['Date', 'Time', 'Global_reactive_power', 'Datetime'], \\\n",
    "               axis = 1)"
   ]
  },
  {
   "cell_type": "code",
   "execution_count": null,
   "metadata": {
    "colab": {
     "base_uri": "https://localhost:8080/"
    },
    "id": "IurYXPqOXSyx",
    "outputId": "e50247b0-f995-4d32-b963-351e3dad2ce7"
   },
   "outputs": [],
   "source": [
    "scaler = MinMaxScaler()\n",
    "scaled_data = scaler.fit_transform(df)\n",
    "scaled_data"
   ]
  },
  {
   "cell_type": "code",
   "execution_count": null,
   "metadata": {
    "id": "tPk0BxUcXj97"
   },
   "outputs": [],
   "source": [
    "X = []\n",
    "y = []"
   ]
  },
  {
   "cell_type": "code",
   "execution_count": null,
   "metadata": {
    "id": "oHM8ue8_XkAh"
   },
   "outputs": [],
   "source": [
    "for i in range(60, scaled_data.shape[0]):\n",
    "    X.append(scaled_data[i-60:i])\n",
    "    y.append(scaled_data[i, 0])"
   ]
  },
  {
   "cell_type": "code",
   "execution_count": null,
   "metadata": {
    "id": "m4JjdTs3XkDI"
   },
   "outputs": [],
   "source": [
    "X, y = np.array(X), np.array(y)"
   ]
  },
  {
   "cell_type": "code",
   "execution_count": null,
   "metadata": {
    "id": "f1jbWmoaXkIb"
   },
   "outputs": [],
   "source": [
    "X_train = X[:217440]\n",
    "y_train = y[:217440]\n",
    "X_test = X[217440:]\n",
    "y_test = y[217440:]"
   ]
  },
  {
   "cell_type": "code",
   "execution_count": null,
   "metadata": {
    "id": "b7h5JXMzMJi-"
   },
   "outputs": [],
   "source": [
    "from tensorflow.keras import Sequential\n",
    "from tensorflow.keras.layers import Dense, LSTM, Dropout"
   ]
  },
  {
   "cell_type": "code",
   "execution_count": null,
   "metadata": {
    "id": "qHlSKJ6gXseD"
   },
   "outputs": [],
   "source": [
    "regressor = Sequential()\n",
    "\n",
    "regressor.add(LSTM(units= 20, activation = 'relu', \\\n",
    "                   return_sequences = True, \\\n",
    "                   input_shape = (X_train.shape[1], X_train.shape[2])))\n",
    "regressor.add(Dropout(0.5))\n",
    "\n",
    "regressor.add(LSTM(units= 40, activation = 'relu', \\\n",
    "                   return_sequences = True))\n",
    "regressor.add(Dropout(0.5))\n",
    "\n",
    "regressor.add(LSTM(units= 80, activation = 'relu'))\n",
    "regressor.add(Dropout(0.5))\n",
    "\n",
    "regressor.add(Dense(units = 1))  # Dense output layer"
   ]
  },
  {
   "cell_type": "code",
   "execution_count": null,
   "metadata": {
    "colab": {
     "base_uri": "https://localhost:8080/"
    },
    "id": "W1VBleFqY6tx",
    "outputId": "d90ebbc8-16a5-4f1e-f48a-b82ca872009b"
   },
   "outputs": [],
   "source": [
    "regressor.summary()"
   ]
  },
  {
   "cell_type": "code",
   "execution_count": null,
   "metadata": {
    "id": "gW6C3oNuaf42"
   },
   "outputs": [],
   "source": [
    "regressor.compile(optimizer='adam', loss = 'mean_squared_error')"
   ]
  },
  {
   "cell_type": "code",
   "execution_count": null,
   "metadata": {
    "colab": {
     "base_uri": "https://localhost:8080/"
    },
    "id": "1qyWdMCqQOnm",
    "outputId": "f9fa0b38-76e5-425c-c349-9f69c84f54dc"
   },
   "outputs": [],
   "source": [
    "regressor.fit(X_train, y_train, epochs=2, batch_size=32)"
   ]
  },
  {
   "cell_type": "code",
   "execution_count": null,
   "metadata": {
    "id": "pxdpKEQ8fbQ5"
   },
   "outputs": [],
   "source": [
    "y_pred = regressor.predict(X_test)"
   ]
  },
  {
   "cell_type": "code",
   "execution_count": null,
   "metadata": {
    "colab": {
     "base_uri": "https://localhost:8080/",
     "height": 513
    },
    "id": "GYIBqDiSgvwE",
    "outputId": "f4f9a313-0f46-4615-f22d-3357d7a965aa"
   },
   "outputs": [],
   "source": [
    "plt.figure(figsize=(15,8))\n",
    "plt.plot(y_test[-60:], color = 'black', label = \"Real Power Consumption\")\n",
    "plt.plot(y_pred[-60:], color = 'gray', label = 'Predicted Power Consumption')\n",
    "plt.title('Power Consumption Prediction')\n",
    "plt.xlabel('time')\n",
    "plt.ylabel('Power Consumption')\n",
    "plt.legend()\n",
    "plt.savefig(\"B16341_09_44.png\", dpi=200)\n",
    "plt.show()"
   ]
  },
  {
   "cell_type": "code",
   "execution_count": null,
   "metadata": {},
   "outputs": [],
   "source": []
  }
 ],
 "metadata": {
  "colab": {
   "collapsed_sections": [],
   "name": "Activity_9_1.ipynb",
   "provenance": []
  },
  "kernelspec": {
   "display_name": "Python 3",
   "language": "python",
   "name": "python3"
  },
  "language_info": {
   "codemirror_mode": {
    "name": "ipython",
    "version": 3
   },
   "file_extension": ".py",
   "mimetype": "text/x-python",
   "name": "python",
   "nbconvert_exporter": "python",
   "pygments_lexer": "ipython3",
   "version": "3.7.3"
  }
 },
 "nbformat": 4,
 "nbformat_minor": 1
}
