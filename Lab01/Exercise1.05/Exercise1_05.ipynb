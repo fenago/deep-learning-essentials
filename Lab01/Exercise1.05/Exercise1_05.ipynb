{
 "cells": [
  {
   "cell_type": "markdown",
   "metadata": {},
   "source": [
    "# Exercise 1.05: Performing Tensor Multiplication in TensorFlow"
   ]
  },
  {
   "cell_type": "code",
   "execution_count": null,
   "metadata": {},
   "outputs": [],
   "source": [
    "import tensorflow as tf"
   ]
  },
  {
   "cell_type": "code",
   "execution_count": null,
   "metadata": {},
   "outputs": [],
   "source": [
    "matrix1 = tf.Variable([[1.0,0.0,3.0,1.0,2.0], \\\n",
    "                       [0.0,1.0,1.0,1.0,1.0], \\\n",
    "                       [2.0,1.0,0.0,2.0,0.0]], \\\n",
    "                      tf.float32)\n",
    "matrix1"
   ]
  },
  {
   "cell_type": "code",
   "execution_count": null,
   "metadata": {},
   "outputs": [],
   "source": [
    "matrix1.shape.as_list()"
   ]
  },
  {
   "cell_type": "code",
   "execution_count": null,
   "metadata": {},
   "outputs": [],
   "source": [
    "matrix2 = tf.Variable([[0.49, 103],\\\n",
    "                       [0.18, 38], \\\n",
    "                       [0.24, 69], \\\n",
    "                       [1.02, 75], \\\n",
    "                       [0.68, 78]])\n",
    "matrix2"
   ]
  },
  {
   "cell_type": "code",
   "execution_count": null,
   "metadata": {},
   "outputs": [],
   "source": [
    "matmul1 = tf.matmul(matrix1, matrix2)\n",
    "matmul1"
   ]
  },
  {
   "cell_type": "code",
   "execution_count": null,
   "metadata": {},
   "outputs": [],
   "source": [
    "matrix3 = tf.Variable([[120.0, 100.0, 90.0], \\\n",
    "                       [30.0, 15.0, 20.0], \\\n",
    "                       [220.0, 240.0, 185.0], \\\n",
    "                       [145.0, 160.0, 155.0], \\\n",
    "                       [330.0, 295.0, 290.0]])"
   ]
  },
  {
   "cell_type": "code",
   "execution_count": null,
   "metadata": {},
   "outputs": [],
   "source": [
    "matmul3 = matrix3 @ matmul1\n",
    "matmul3\n"
   ]
  },
  {
   "cell_type": "code",
   "execution_count": null,
   "metadata": {},
   "outputs": [],
   "source": []
  }
 ],
 "metadata": {
  "kernelspec": {
   "display_name": "Python 3",
   "language": "python",
   "name": "python3"
  },
  "language_info": {
   "codemirror_mode": {
    "name": "ipython",
    "version": 3
   },
   "file_extension": ".py",
   "mimetype": "text/x-python",
   "name": "python",
   "nbconvert_exporter": "python",
   "pygments_lexer": "ipython3",
   "version": "3.7.3"
  }
 },
 "nbformat": 4,
 "nbformat_minor": 2
}
