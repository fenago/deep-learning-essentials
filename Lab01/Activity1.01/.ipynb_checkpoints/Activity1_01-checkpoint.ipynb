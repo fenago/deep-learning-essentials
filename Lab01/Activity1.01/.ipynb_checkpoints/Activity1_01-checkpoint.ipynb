{
 "cells": [
  {
   "cell_type": "markdown",
   "metadata": {},
   "source": [
    "# Activity 1.01: Performing Tensor Addition in TensorFlow"
   ]
  },
  {
   "cell_type": "code",
   "execution_count": null,
   "metadata": {},
   "outputs": [],
   "source": [
    "import tensorflow as tf"
   ]
  },
  {
   "cell_type": "code",
   "execution_count": null,
   "metadata": {},
   "outputs": [],
   "source": [
    "var1 = tf.Variable(2706, tf.int32)\n",
    "var2 = tf.Variable(2386, tf.int32)"
   ]
  },
  {
   "cell_type": "code",
   "execution_count": null,
   "metadata": {},
   "outputs": [],
   "source": [
    "var_sum = var1 + var2\n",
    "var_sum.numpy()"
   ]
  },
  {
   "cell_type": "code",
   "execution_count": null,
   "metadata": {},
   "outputs": [],
   "source": [
    "scalar1 = tf.Variable(95, tf.int32)\n",
    "vector1 = tf.Variable([2706, 2799, 5102], \\\n",
    "                      tf.int32)"
   ]
  },
  {
   "cell_type": "code",
   "execution_count": null,
   "metadata": {},
   "outputs": [],
   "source": [
    "vector_scalar_sum = scalar1 + vector1\n",
    "vector_scalar_sum.numpy()"
   ]
  },
  {
   "cell_type": "code",
   "execution_count": null,
   "metadata": {},
   "outputs": [],
   "source": [
    "matrix1 = tf.Variable([[2706, 2799, 5102], \\\n",
    "                       [2386, 4089, 5932]], tf.int32)\n",
    "matrix2 = tf.Variable([[5901, 1208, 645], \\\n",
    "                       [6235, 1098, 948]], tf.int32)\n",
    "matrix3 = tf.Variable([[3908, 2339, 5520], \\\n",
    "                       [4544, 1978, 4729]], tf.int32)"
   ]
  },
  {
   "cell_type": "code",
   "execution_count": null,
   "metadata": {},
   "outputs": [],
   "source": [
    "matrix_sum = matrix1 + matrix2 + matrix3\n",
    "matrix_sum.numpy()"
   ]
  },
  {
   "cell_type": "code",
   "execution_count": null,
   "metadata": {},
   "outputs": [],
   "source": []
  }
 ],
 "metadata": {
  "kernelspec": {
   "display_name": "Python 3",
   "language": "python",
   "name": "python3"
  },
  "language_info": {
   "codemirror_mode": {
    "name": "ipython",
    "version": 3
   },
   "file_extension": ".py",
   "mimetype": "text/x-python",
   "name": "python",
   "nbconvert_exporter": "python",
   "pygments_lexer": "ipython3",
   "version": "3.7.3"
  }
 },
 "nbformat": 4,
 "nbformat_minor": 2
}
